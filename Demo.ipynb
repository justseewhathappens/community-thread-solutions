{
 "cells": [
  {
   "cell_type": "code",
   "execution_count": 1,
   "metadata": {},
   "outputs": [],
   "source": [
    "import numpy as np\n",
    "import pandas as pd"
   ]
  },
  {
   "cell_type": "markdown",
   "metadata": {},
   "source": [
    "# Step 1. Feature Extraction"
   ]
  },
  {
   "cell_type": "code",
   "execution_count": 2,
   "metadata": {},
   "outputs": [],
   "source": [
    "# get thread_data from csv files \n",
    "import os\n",
    "\n",
    "folder_path = '/Users/lily/Desktop/data_output/'\n",
    "all_files = os.listdir(folder_path)\n",
    "thread_data = pd.DataFrame()\n",
    "for file_name in all_files:\n",
    "    doc_df = pd.read_csv(folder_path+file_name, encoding=('iso-8859-1'))\n",
    "    thread_data = thread_data.append(doc_df, ignore_index= True)\n",
    "    \n",
    "thread_data['Message Bodies'] = [w.replace('\\\\xa0', ' ').replace('\\\\n', ' ') for w in thread_data['Message Bodies']]\n",
    "\n",
    "# export data to csv file\n",
    "thread_data.to_csv('data_original.csv', encoding='utf-8', index=False)"
   ]
  },
  {
   "cell_type": "markdown",
   "metadata": {},
   "source": [
    "## Extract thread based features"
   ]
  },
  {
   "cell_type": "code",
   "execution_count": 3,
   "metadata": {},
   "outputs": [],
   "source": [
    "from bs4 import BeautifulSoup\n",
    "from nltk.sentiment.vader import SentimentIntensityAnalyzer\n",
    "sid = SentimentIntensityAnalyzer()\n",
    "\n",
    "\n",
    "for i in range(len(thread_data)):\n",
    "    # do counts\n",
    "    Message_soup = BeautifulSoup(thread_data['Message HTML'][i], 'html.parser')\n",
    "    thread_data.loc[i, 'img_count'] = len(Message_soup.find_all('img')) - len(Message_soup.find_all('img', class_='emoticon'))  # count image tags\n",
    "    thread_data.loc[i, 'p_count'] = len(Message_soup.find_all('p'))    # count p tags\n",
    "    thread_data.loc[i, 'word_count'] = len(Message_soup.get_text().split(' ')) # count words\n",
    "    \n",
    "    # get sentiment\n",
    "    ss = sid.polarity_scores(thread_data['Message Bodies'][i])\n",
    "    \n",
    "    thread_data.loc[i, 'compound'] = ss['compound']\n",
    "    thread_data.loc[i, 'neg'] = ss['neg']\n",
    "    thread_data.loc[i, 'neu'] = ss['neu']\n",
    "    thread_data.loc[i, 'pos'] = ss['pos']\n",
    "    \n",
    "    thread_data.loc[i, 'user_count'] = len(thread_data['User List'][i].split(','))\n"
   ]
  },
  {
   "cell_type": "code",
   "execution_count": 4,
   "metadata": {},
   "outputs": [],
   "source": [
    "# export data to csv file\n",
    "thread_data = thread_data.drop(columns=['Thread ID', 'Message List', 'User List', 'Message HTML', 'Post Times', 'Message Bodies'])\n",
    "thread_data['Solution Count'] = [0 if x==0 else 1 for x in thread_data['Solution Count']]  \n",
    "thread_data.to_csv('data.csv', encoding='utf-8', index=False)"
   ]
  },
  {
   "cell_type": "markdown",
   "metadata": {},
   "source": [
    "## Extract content based features"
   ]
  },
  {
   "cell_type": "code",
   "execution_count": 5,
   "metadata": {},
   "outputs": [],
   "source": [
    "from scipy.sparse import csr_matrix\n",
    "from scipy.sparse import hstack\n",
    "from collections import Counter\n",
    "from nltk.tokenize.moses import MosesTokenizer\n",
    "from nltk import word_tokenize\n",
    "from nltk import pos_tag\n",
    "from nltk.corpus import stopwords\n",
    "from nltk.stem import WordNetLemmatizer \n",
    "from sklearn.feature_extraction.text import TfidfVectorizer, CountVectorizer\n",
    "\n",
    "n_features = 2000\n",
    "mosesTokenizer = MosesTokenizer()\n",
    "stop_words = set(stopwords.words('english'))\n",
    "more_stop_words = [',','&quot;','(',')','/','&apos;t','&apos;re','&apos;s','&apos;ve','&gt;','+','~','-','*','\\\\',':','--', '\\'',\n",
    "                   '#','$','%','&amp;','&apos;','&apos;d','&apos;ll','&apos;m','..','...','....','\"']\n",
    "punct_stop_words = ['?','.']\n",
    "all_stop_words = stop_words.union(more_stop_words)\n",
    "all_stop_words_punct = all_stop_words.union(punct_stop_words)\n"
   ]
  },
  {
   "cell_type": "code",
   "execution_count": 6,
   "metadata": {},
   "outputs": [],
   "source": [
    "class LemmaTokenizer(object):\n",
    "     def __init__(self):\n",
    "         self.wnl = WordNetLemmatizer()\n",
    "     def __call__(self, doc):\n",
    "        #Part-Of-Speech Tagged and Word Tokenized \n",
    "        tagged = pos_tag((word_tokenize(doc)))\n",
    "        lems = []\n",
    "\n",
    "        #For each tagged word, lemmatize the nouns, verbs, and adjectives\n",
    "        for w,t in tagged:\n",
    "\n",
    "            #temporay variable to potentially change the word\n",
    "            l = w \n",
    "            #noun\n",
    "            if(t[0] == 'N'):\n",
    "                l = self.wnl.lemmatize(w, 'n')\n",
    "            #verb\n",
    "            elif(t[0] == 'V'):\n",
    "                l = self.wnl.lemmatize(w, 'v')\n",
    "            #adjective    \n",
    "            elif(t[0] == 'J'):\n",
    "                l = self.wnl.lemmatize(w, 'a')\n",
    "    \n",
    "            lems.append(l)    \n",
    "\n",
    "        #return list of lemmed words\n",
    "        return lems"
   ]
  },
  {
   "cell_type": "code",
   "execution_count": 7,
   "metadata": {},
   "outputs": [],
   "source": [
    "# prepare data\n",
    "from sklearn.model_selection import train_test_split\n",
    "\n",
    "thread_df = pd.read_csv('data_original.csv', encoding='utf-8')\n",
    "\n",
    "# separate features and targets\n",
    "thread_X = thread_df.drop(columns=['Solution Count', 'Thread ID', 'Message List', 'User List', 'Message HTML', 'Post Times'])\n",
    "thread_y = [0 if x==0 else 1 for x in thread_df['Solution Count']]  \n",
    "\n",
    "\n",
    "X_train, X_test, y_train, y_test = train_test_split(thread_X, \n",
    "                                                    thread_y, \n",
    "                                                    random_state=42, \n",
    "                                                    train_size=.7, \n",
    "                                                    test_size=.3)\n",
    "\n",
    "X_train_features = X_train.drop(columns=['Message Bodies'])\n",
    "X_test_features = X_test.drop(columns=['Message Bodies'])\n",
    "\n",
    "X_train_csr = csr_matrix(X_train_features.values.astype(int))\n",
    "X_test_csr = csr_matrix(X_test_features.values.astype(int))\n"
   ]
  },
  {
   "cell_type": "markdown",
   "metadata": {},
   "source": [
    "### Extract tf-idf features"
   ]
  },
  {
   "cell_type": "code",
   "execution_count": 8,
   "metadata": {},
   "outputs": [
    {
     "name": "stdout",
     "output_type": "stream",
     "text": [
      "Extracting tf-idf features...\n",
      "['!', '! !', '! ! !', \"! ''\", \"! '' ]\", \"! 'hi\", '! ]', '! ``', '! `` ``', '! thanks', '! use', '&', \"''\", \"'' ''\", \"'' 'hi\", \"'' 'i\", \"'' >\", \"'' ]\", \"'' ``\", \"'' `` hi\", \"'' button\", \"'' function\", \"'' labview\", \"'' mean\", \"'' use\", \"'' vi\", \"'can\", \"'d\", \"'d like\", \"'dear\", \"'hello\", \"'here\", \"'hey\", \"'hi\", \"'how\", \"'i\", \"'i think\", \"'i try\", \"'i use\", \"'i\\\\\", \"'i\\\\ 'm\", \"'if\", \"'in\", \"'is\", \"'it\", \"'ll\", \"'ll need\", \"'ll try\", \"'m\", \"'m go\", \"'m look\", \"'m sure\", \"'m try\", \"'m use\", \"'ok\", \"'re\", \"'s\", \"'so\", \"'sorry\", \"'thank\", \"'thanks\", \"'that\", \"'the\", \"'there\", \"'this\", \"'ve\", \"'ve attach\", \"'ve get\", \"'ve try\", \"'ve use\", \"'well\", \"'what\", \"'yes\", \"'you\", '-1', '-kevin', '-kevin p', '.exe', '.net', '.vi', '//', '/y', '0', '0 1', '1', '1 2', '1.', '10', '100', '1000', '12', '15', '16', '1d', '1d array', '1st', '2', '2.', '20', '2010', '2011', '2012', '2013', '2014', '2015', '2016', '2017', '24', '2d', '2d array', '2nd', '3', '3.', '30', '32', '32 bit', '32-bit', '32bit', '3d', '3rd', '4', '4.', '40', '5', '50', '6', '64', '64 bit', '64-bit', '64bit', '7', '8', '9', ';', '; //', '; }', '<', '< <', '< < <', '< unknown', '< unknown >', '=', '>', '> 0', '> <', '> >', '> > >', '@', \"[ 'hello\", \"[ 'hi\", \"[ 'i\", '[ ]', '[ ``', '[ `` hello', '[ `` hi', '[ vi', '[ vi ``', '\\\\\\\\', '\\\\\\\\program', '``', \"`` ''\", \"`` 'hello\", \"`` 'hi\", \"`` 'i\", \"`` 'm\", \"`` 's\", \"`` 'thanks\", \"`` 've\", \"`` 'you\", '`` @', '`` ]', '`` ``', '`` `` hi', '`` c', '`` error', '`` get', '`` hello', '`` hey', '`` hi', '`` labview', \"`` n't\", '`` read', '`` save', '`` thank', '`` thanks', '`` try', '`` use', '`` write', '`` yes', 'ability', 'able', 'able find', 'able get', 'able use', 'abort', 'absolute', 'absolutely', 'accelerometer', 'accept', 'access', 'accomplish', 'accord', 'account', 'accurate', 'achieve', 'acquire', 'acquire data', 'acquisition', 'across', 'act', 'action', 'action engine', 'activate', 'active', 'activex', 'actor', 'actual', 'actually', 'adapter', 'adc', 'add', 'addition', 'additional', 'address', 'adjust', 'advance', 'advanced', 'advice', 'advise', 'affect', 'agilent', 'ago', 'agree', 'ai', 'algorithm', 'allocate', 'allocation', 'allow', 'almost', 'along', 'already', 'also', 'also need', 'also try', 'also use', 'altenbach', 'alternative', 'although', 'always', 'amount', 'amplitude', 'analog', 'analog input', 'analog output', 'analysis', 'analyzer', 'and/or', 'angle', 'another', 'answer', 'answer question', 'anybody', 'anymore', 'anyone', 'anyone know', 'anything', 'anyway', 'anywhere', 'ao', 'api', 'app', 'apparently', 'appear', 'append', 'application', 'application engineer', 'apply', 'appreciate', 'approach', 'appropriate', 'architecture', 'arduino', 'area', 'around', 'array', \"array ''\", 'array cluster', 'array element', 'array size', 'array string', 'array use', 'arrow', 'article', 'ascii', 'ask', 'assembly', 'assign', 'assistant', 'associate', 'assume', 'asynchronous', 'attach', 'attach code', 'attach vi', 'attached', 'attached vi', 'attachment', 'attempt', 'attribute', 'audio', 'auto', 'automatically', 'available', 'average', 'avi', 'avoid', 'aware', 'away', 'axis', 'b', 'back', 'background', 'bad', 'bar', 'base', 'basic', 'basically', 'baud', 'baud rate', 'become', 'begin', 'beginner', 'beginning', 'behavior', 'behaviour', 'behind', 'believe', 'ben', 'ben ``', 'ben64', 'best', 'best regard', 'best way', 'better', 'big', 'binary', 'bit', 'black', 'blank', 'block', 'block diagram', 'blue', 'board', 'bob', 'bob schor', 'bob schor ``', 'boolean', 'booleans', 'border', 'bottom', 'box', 'break', 'bring', 'broken', 'browse', 'browser', 'btw', 'buffer', 'bug', 'build', 'build array', 'builder', 'bunch', 'bundle', 'bus', 'button', 'button press', 'buy', 'byte', 'byte port', 'c', 'c \\\\\\\\program', 'c++', 'ca', \"ca n't\", \"ca n't find\", 'cable', 'calculate', 'calculation', 'calibration', 'call', 'call ``', 'call library', 'call library function', 'call library node', 'call vi', 'callback', 'caller', 'camera', \"can\\\\'t\", 'cant', 'capture', 'car', 'card', 'care', 'case', 'case structure', 'cast', 'catch', 'cause', 'cdaq', 'cell', 'certain', 'certainly', 'chance', 'change', 'change value', 'channel', 'char', 'character', 'chart', 'chassis', 'check', 'cheer', 'child', 'choice', 'choose', 'circuit', 'clarify', 'class', 'clean', 'clear', 'clearly', 'click', 'client', 'clock', 'clone', 'close', 'cluster', 'cod', 'code', 'code ``', 'code run', 'code use', 'code work', 'coercion', 'collect', 'color', 'column', 'com', 'com port', 'combination', 'combine', 'come', 'comma', 'command', 'command line', 'comment', 'common', 'communicate', 'communication', 'community', 'company', 'compare', 'comparison', 'compatibility', 'compatible', 'compile', 'compiler', 'complete', 'completely', 'complex', 'complicate', 'component', 'computer', 'concept', 'concern', 'condition', 'conditional', 'config', 'configuration', 'configure', 'confirm', 'conflict', 'confuse', 'connect', 'connection', 'connector', 'consider', 'consist', 'constant', 'consumer', 'consumer loop', 'contact', 'contain', 'content', 'context', 'continue', 'continuous', 'continuously', 'control', 'controller', 'conversion', 'convert', 'converter', 'coordinate', 'copy', 'core', 'correct', 'correctly', 'correspond', 'corresponding', 'corrupt', 'could', 'could also', 'could find', 'could help', \"could n't\", 'could please', 'could use', 'count', 'counter', 'couple', 'course', 'cpu', 'crash', 'create', 'create new', 'create vi', 'crio', 'crossrulz', 'csv', 'csv file', 'curious', 'current', 'currently', 'cursor', 'curve', 'custom', 'customer', 'cycle', 'daq', 'daq assistant', 'daqmx', 'daqmx read', 'data', \"data ''\", 'data ``', 'data acquisition', 'data come', 'data file', 'data flow', 'data point', 'data type', 'data use', 'database', 'dataflow', 'datatype', 'date', 'day', 'db', 'dbl', 'dc', 'de', 'deal', 'dear', 'debug', 'decide', 'decimal', 'def', 'default', 'default value', 'define', 'definitely', 'definition', 'degree', 'delay', 'delete', 'demo', 'depend', 'dependency', 'deploy', 'dequeue', 'describe', 'description', 'design', 'desire', 'desired', 'desktop', 'detail', 'detailed', 'detect', 'detection', 'determine', 'develop', 'developer', 'development', 'device', 'diagram', 'dialog', \"didn\\\\'t\", 'difference', 'different', 'difficult', 'digit', 'digital', 'digital output', 'dimension', 'direct', 'direction', 'directly', 'directory', 'disable', 'disconnect', 'discover', 'discuss', 'discussion', 'disk', 'display', 'distribution', 'divide', 'dll', 'dlls', 'dma', 'document', 'documentation', \"doesn\\\\'t\", \"don\\\\'t\", \"don\\\\'t know\", \"don\\\\'t need\", 'dont', 'dont know', 'dot', 'double', 'doubt', 'download', 'drag', 'draw', 'drive', 'driver', 'drop', 'dsc', 'dt', 'due', 'duplicate', 'dvr', 'dynamic', 'dynamic data', 'dynamically', 'e', 'e.g', 'earlier', 'early', 'easily', 'easy', 'easy way', 'edge', 'edit', 'editor', 'effect', 'efficient', 'effort', 'either', 'elapsed', 'elapsed time', 'element', 'element array', 'eliminate', 'else', 'email', 'embed', 'empty', 'enable', 'encoder', 'encounter', 'end', 'engine', 'engineer', 'english', 'enough', 'ensure', 'enter', 'entire', 'entry', 'enum', 'environment', 'equal', 'equation', 'equipment', 'error', 'error ``', 'error code', 'error error', 'error message', 'error occur', 'especially', 'essentially', 'etc', 'etc.', 'ethernet', 'even', 'even though', 'event', 'event case', 'event structure', 'eventually', 'ever', 'every', 'every time', 'everyone', 'everything', 'everything work', 'exact', 'exactly', 'example', 'example ``', 'example code', 'example use', 'example vi', 'excel', 'excel file', 'except', 'exception', 'exchange', 'exe', 'executable', 'execute', 'execution', 'exist', 'exit', 'expand', 'expect', 'experience', 'experiment', 'explain', 'explanation', 'explicitly', 'explorer', 'export', 'express', 'express vi', 'extension', 'external', 'extra', 'extract', 'f', 'face', 'fact', 'factor', 'fail', 'fairly', 'fall', 'false', 'familiar', 'fan', 'far', 'fast', 'faster', 'feature', 'fee', 'feed', 'feedback', 'feedback node', 'feel', 'fft', 'fgv', 'field', 'fifo', 'figure', 'file', \"file ''\", 'file ``', 'file name', 'file path', 'file use', 'file x86', 'filename', 'fill', 'filter', 'final', 'finally', 'find', 'find example', 'find solution', 'find way', 'fine', 'finish', 'finite', 'fire', 'firewall', 'firmware', 'first', 'first time', 'fit', 'fix', 'fixed', 'flag', 'flat', 'flatten', 'float', 'flow', 'focus', 'folder', 'follow', 'following', 'font', 'force', 'forget', 'form', 'format', 'format string', 'formula', 'forum', 'forward', 'four', 'fp', 'fpga', 'fpga vi', 'frame', 'framework', 'free', 'frequency', 'front', 'front panel', 'full', 'fully', 'function', 'function use', 'functionality', 'future', 'gain', 'general', 'generally', 'generate', 'generation', 'generator', 'generic', 'gerdw', 'get', 'get ``', 'get data', 'get error', 'get rid', 'get start', 'get work', 'give', 'give error', 'global', 'global variable', 'go', 'go back', 'goal', 'good', 'good idea', 'good luck', 'good way', 'google', 'gpib', 'grab', 'graph', 'great', 'greatly', 'greatly appreciate', 'green', 'group', 'grow', 'guarantee', 'guess', 'gui', 'guide', 'guy', 'half', 'hand', 'handle', 'handler', 'hang', 'happen', 'happy', 'hard', 'hardware', \"haven\\\\'t\", 'head', 'header', 'hear', 'hello', 'help', 'help !', 'help ``', 'help would', 'helpful', 'hence', 'here\\\\', \"here\\\\ 's\", 'hex', 'hey', 'hi', 'hide', 'hierarchy', 'high', 'highlight', 'highlight read', 'highly', 'hint', 'history', 'hit', 'hold', 'home', 'hop', 'hope', 'hope help', 'hopefully', 'host', 'hour', 'however', 'http', 'huge', 'hz', 'i.e', 'i/o', 'i2c', 'i\\\\', \"i\\\\ 'd\", \"i\\\\ 'll\", \"i\\\\ 'm\", \"i\\\\ 'm sure\", \"i\\\\ 'm use\", \"i\\\\ 've\", 'icon', 'id', 'ide', 'idea', 'identical', 'identify', 'ignore', 'im', 'image', 'imagine', 'imaq', 'immediately', 'implement', 'implementation', 'import', 'important', 'improve', 'include', 'incorrect', 'increase', 'increment', 'indeed', 'independent', 'index', 'index array', 'indicate', 'indicator', 'individual', 'info', 'information', 'ini', 'init', 'initial', 'initialize', 'inner', 'input', 'input output', 'insert', 'inside', 'inside loop', 'instal', 'instal labview', 'install', 'installation', 'installer', 'instance', 'instead', 'instruction', 'instrument', 'int', 'integer', 'integrate', 'intend', 'intensity', 'interest', 'interested', 'interesting', 'interface', 'internal', 'internet', 'interval', 'introduce', 'invalid', 'invoke', 'invoke node', 'involve', 'io', 'ip', 'ip address', \"isn\\\\'t\", 'issue', 'it\\\\', \"it\\\\ 's\", 'item', 'iterate', 'iteration', 'jeff', 'jens', 'job', 'jump', 'keep', 'keithley', 'key', 'khz', 'kind', 'kind regard', 'know', 'knowledge', 'lab', 'label', 'labview', 'labview 2013', 'labview 2014', 'labview 2015', 'labview 2016', 'labview 2017', 'labview ``', 'labview code', 'labview fpga', 'labview help', 'labview program', 'labview project', 'labview use', 'labview version', 'labview vi', 'language', 'laptop', 'large', 'last', 'late', 'later', 'launch', 'lead', 'learn', 'least', 'leave', 'led', 'left', 'legend', 'length', 'less', 'let', 'let know', 'level', 'library', 'library function', 'library node', 'license', 'light', 'like', 'like ``', 'like use', 'likely', 'limit', 'limitation', 'line', 'linear', 'link', 'linux', 'linx', 'list', 'little', 'little bit', 'live', 'llb', 'load', 'load cell', 'local', 'local variable', 'locate', 'location', 'lock', 'log', 'logic', 'long', 'long time', 'longer', 'look', 'look like', 'loop', 'loop ``', 'loop iteration', 'loop run', 'loop stop', 'loop use', 'lose', 'lot', 'low', 'luck', 'lv', 'lvrt', 'mac', 'machine', 'main', 'main vi', 'maintain', 'make', 'make sense', 'make sure', 'make vi', 'make work', 'manage', 'manager', 'manual', 'manually', 'manufacturer', 'many', 'many thanks', 'map', 'mark', 'master', 'match', 'math', 'matlab', 'matrix', 'matter', 'max', 'maximum', 'may', 'maybe', 'mcduff', 'mean', 'mean ``', 'measure', 'measurement', 'memory', 'mention', 'menu', 'merge', 'mess', 'message', 'meter', 'method', 'microsoft', 'middle', 'might', 'might want', 'millisecond', 'min', 'mind', 'mine', 'minimum', 'minute', 'miss', 'mistake', 'modbus', 'mode', 'model', 'modification', 'modify', 'module', 'moment', 'monitor', 'month', 'mostly', 'motion', 'motor', 'mouse', 'move', 'msec', 'much', 'much !', 'multiple', 'multiply', 'must', 'myrio', 'n', \"n't\", \"n't find\", \"n't get\", \"n't know\", \"n't need\", \"n't really\", \"n't see\", \"n't seem\", \"n't think\", \"n't understand\", \"n't use\", \"n't want\", \"n't work\", 'name', 'national', 'national instrument', 'native', 'near', 'necessary', 'need', 'need ``', 'need change', 'need create', 'need get', 'need help', 'need know', 'need make', 'need use', 'negative', 'network', 'network stream', 'never', 'never use', 'new', 'new labview', 'new version', 'next', 'ni', 'ni max', 'ni-daqmx', 'nice', 'node', 'noise', 'none', 'normal', 'normally', 'note', 'nothing', 'notice', 'null', 'number', 'number sample', 'numeric', 'nxg', 'object', 'obtain', 'obvious', 'obviously', 'occur', 'odd', 'offer', 'office', 'offset', 'often', 'oh', 'ok', 'old', 'old version', 'one', 'one ``', 'one thing', 'one time', 'online', 'onto', 'op', 'opc', 'open', 'open file', 'open vi', 'operate', 'operation', 'opinion', 'option', 'order', 'original', 'os', 'oscilloscope', 'others', 'otherwise', 'outer', 'output', 'outside', 'outside loop', 'overlay', 'overwrite', 'p', 'package', 'packet', 'page', 'pair', 'palette', 'pane', 'panel', 'paper', 'parallel', 'parallel loop', 'parameter', 'parent', 'parse', 'part', 'particular', 'party', 'pas', 'pass', 'password', 'past', 'paste', 'patch', 'path', 'pattern', 'pause', 'pc', 'pdf', 'peak', 'people', 'per', 'per second', 'perfect', 'perfectly', 'perform', 'performance', 'perhaps', 'period', 'person', 'phase', 'physical', 'pic', 'pick', 'picture', 'pid', 'piece', 'pin', 'pixel', 'place', 'plan', 'platform', 'play', 'plc', 'please', 'please help', 'please let', 'please let know', 'plot', 'plug', 'plugin', 'point', 'pointer', 'poll', 'pop', 'port', 'portion', 'position', 'possibility', 'possible', 'possibly', 'post', 'post code', 'power', 'power supply', 'ppl', 'practice', 'precision', 'prefer', 'present', 'press', 'pressure', 'pretty', 'prevent', 'previous', 'previously', 'primitive', 'print', 'priority', 'private', 'probably', 'probe', 'problem', 'problem ``', 'problem use', 'procedure', 'process', 'processing', 'processor', 'produce', 'producer', 'producer/consumer', 'product', 'profile', 'program', 'program labview', 'program run', 'programmatically', 'programmer', 'programming', 'progress', 'project', 'prompt', 'proper', 'properly', 'property', 'property node', 'protocol', 'provide', 'pull', 'pulse', 'pump', 'purpose', 'push', 'put', 'pwm', 'pxi', 'python', 'query', 'question', 'queue', 'quick', 'quickly', 'quite', 'r', 'race', 'race condition', 'radio', 'ram', 'ramp', 'random', 'range', 'rate', 'rather', 'ravensfan', 'raw', 'reach', 'read', 'read data', 'read write', 'read/write', 'reader', 'reading', 'ready', 'real', 'real time', 'real-time', 'realize', 'really', 'really need', 'reason', 'reasonable', 'reboot', 'recall', 'receive', 'receiver', 'recent', 'recently', 'recognize', 'recommend', 'record', 'red', 'reduce', 'reentrant', 'ref', 'refer', 'reference', 'refnum', 'regard', 'register', 'regular', 'reinstall', 'relate', 'relative', 'relatively', 'relay', 'release', 'relevant', 'remain', 'remember', 'remote', 'remove', 'rename', 'repair', 'repeat', 'replace', 'reply', 'report', 'report generation', 'represent', 'representation', 'reproduce', 'request', 'require', 'required', 'requirement', 'research', 'reset', 'resize', 'resolution', 'resolve', 'resource', 'respond', 'response', 'rest', 'restart', 'result', 'retrieve', 'return', 'reverse', 'review', 'rid', 'right', 'right click', 'right-click', 'ring', 'rio', 'round', 'routine', 'row', 'rs232', 'rt', 'rule', 'run', 'run ``', 'run code', 'run labview', 'run program', 'run time', 'run vi', 'run-time', 'running', 'runtime', 'safe', 'sample', 'sample clock', 'sample rate', 'sampling', 'save', 'save data', 'saw', 'say', 'say ``', 'scale', 'scan', 'schor', 'schor ``', 'scope', 'screen', 'screen shot', 'screenshot', 'screenshots', 'script', 'scroll', 'search', 'sec', 'second', 'section', 'see', 'see ``', 'see attached', 'seem', 'seem like', 'seem work', 'select', 'select ``', 'selection', 'send', 'send command', 'send data', 'sense', 'sensor', 'separate', 'sequence', 'sequence structure', 'serial', 'serial port', 'series', 'server', 'service', 'session', 'set', 'set ``', 'setting', 'setup', 'several', 'share', 'share variable', 'sheet', 'shift', 'shift register', 'short', 'shot', 'show', 'show us', 'side', 'signal', 'similar', 'simple', 'simpler', 'simplify', 'simply', 'simulate', 'simulation', 'simultaneously', 'since', 'sine', 'sine wave', 'single', 'sir', 'site', 'situation', 'size', 'slave', 'slider', 'slightly', 'slow', 'small', 'snippet', 'software', 'solution', 'solve', 'solve problem', 'somebody', 'somehow', 'someone', 'someone help', 'something', 'something else', 'something like', 'sometimes', 'somewhat', 'somewhere', 'soon', 'sorry', 'sort', 'sound', 'sound like', 'source', 'source code', 'sp1', 'space', 'spec', 'special', 'specific', 'specifically', 'specification', 'specify', 'spectrum', 'speed', 'spend', 'spi', 'split', 'spoiler', 'spoiler highlight', 'spoiler highlight read', 'spreadsheet', 'sql', 'square', 'stack', 'stage', 'stamp', 'stand', 'standard', 'start', 'start labview', 'startup', 'state', 'state machine', 'statement', 'static', 'status', 'stay', 'step', 'stepper', 'stick', 'still', 'still get', 'stop', 'stop button', 'store', 'straight', 'strain', 'strange', 'stream', 'string', \"string ''\", 'string array', 'structure', 'student', 'studio', 'stuff', 'style', 'sub', 'sub vi', 'sub-vi', 'subset', 'subtract', 'subvi', 'subvis', 'success', 'successfully', 'sufficient', 'suggest', 'suggestion', 'sum', 'supply', 'support', 'suppose', 'sure', 'suspect', 'switch', 'symbol', 'sync', 'synchronize', 'system', 'tab', 'tab control', 'table', 'tag', 'take', 'take look', 'take time', 'talk', 'target', 'task', 'tcp', 'tcp/ip', 'tdms', 'tdms file', 'technique', 'tell', 'tell us', 'temp', 'temperature', 'template', 'term', 'terminal', 'terminate', 'termination', 'termination character', 'test', 'teststand', 'text', 'text file', 'thank', 'thank !', 'thank ``', 'thank advance', 'thank help', 'thank lot', 'thank much', 'thanks', 'thanks !', 'thanks ! ``', \"thanks ''\", 'thanks ``', 'thanks advance', 'thanks help', 'thanks reply', 'that\\\\', \"that\\\\ 's\", 'there\\\\', \"there\\\\ 's\", 'therefore', 'thermocouple', 'thing', 'think', 'think would', 'third', 'though', 'thought', 'thread', 'three', 'threshold', 'throw', 'thus', 'tick', 'time', \"time ''\", 'time ``', 'time loop', 'time stamp', 'time use', 'timed', 'timed loop', 'timeout', 'timer', 'timestamp', 'timing', 'tip', 'title', 'today', 'together', 'tool', 'toolkit', 'top', 'top level', 'topic', 'total', 'trace', 'track', 'train', 'training', 'transfer', 'transmit', 'tree', 'trial', 'trick', 'trigger', 'trouble', 'troubleshoot', 'true', 'try', 'try ``', 'try create', 'try get', 'try make', 'try open', 'try read', 'try run', 'try use', 'try write', 'tunnel', 'turn', 'tutorial', 'twice', 'two', 'two different', 'type', 'type def', 'typedef', 'typical', 'typically', 'u', 'u32', 'u8', 'udp', 'ui', 'unable', 'unbundle', 'understand', 'understanding', 'unfortunately', 'unicode', 'uninstall', 'unique', 'unit', 'unknown', 'unknown >', 'unknown > 0', 'unless', 'unsigned', 'update', 'upgrade', 'upload', 'upon', 'upper', 'url', 'us', 'usage', 'usb', 'use', 'use ``', 'use array', 'use case', 'use daqmx', 'use event', 'use event structure', 'use function', 'use labview', 'use local', 'use loop', 'use ni', 'use one', 'use property', 'use property node', 'use shift', 'use shift register', 'use two', 'use vi', 'use visa', 'useful', 'user', 'user event', 'usually', 'utility', 'v', 'valid', 'value', 'value ``', 'value change', 'variable', 'variant', 'various', 'vary', 'vector', 'verify', 'version', 'version labview', 'vi', \"vi ''\", \"vi 's\", 'vi ``', 'vi attach', 'vi call', 'vi reference', 'vi run', 'vi server', 'vi use', 'vi work', 'vi\\\\', \"vi\\\\ 's\", 'via', 'video', 'view', 'vipm', 'virtual', 'vis', 'visa', 'visa read', 'visible', 'vision', 'visual', 'voltage', 'wait', 'want', 'want ``', 'want know', 'want make', 'want read', 'want use', 'warning', 'watch', 'wave', 'waveform', 'waveform chart', 'waveform graph', 'way', 'way get', 'web', 'web service', 'website', 'week', 'weird', 'welcome', 'well', 'what\\\\', \"what\\\\ 's\", 'whatever', 'whenever', 'whether', 'white', 'whole', 'width', 'window', 'window 10', 'window 7', 'windows', 'wire', 'wish', 'within', 'without', 'wo', \"wo n't\", \"won\\\\'t\", 'wonder', 'word', 'work', 'work !', 'work ``', 'work fine', 'work labview', 'work well', 'workaround', 'working', 'worksheet', 'worry', 'worth', 'would', 'would also', 'would appreciate', 'would help', 'would like', \"would n't\", 'would need', 'would recommend', 'would use', 'would work', 'wrap', 'wrapper', 'write', 'write ``', 'write code', 'write data', 'write file', 'write hi', 'write labview', 'write read', 'wrong', 'x', 'x-axis', 'x86', 'xilinx', 'xml', 'xp', 'xy', 'xy graph', 'year', 'year ago', 'yes', 'yet', 'you\\\\', \"you\\\\ 'll\", \"you\\\\ 're\", \"you\\\\ 've\", 'z', 'zero', 'zip', '{', '|', '}']\n"
     ]
    }
   ],
   "source": [
    "print(\"Extracting tf-idf features...\")\n",
    "tfidf_vectorizer = TfidfVectorizer(max_df=0.95, min_df=2,\n",
    "                                   max_features=n_features,\n",
    "                                   strip_accents = 'unicode',\n",
    "                                   tokenizer = LemmaTokenizer(),\n",
    "                                   ngram_range = (1,3),\n",
    "                                   stop_words=all_stop_words_punct)\n",
    "\n",
    "tfidf_train = tfidf_vectorizer.fit_transform(X_train['Message Bodies'])\n",
    "tfidf_test = tfidf_vectorizer.transform(X_test['Message Bodies'])\n",
    "\n",
    "X_train_tfidf = hstack((X_train_csr, tfidf_train))\n",
    "X_test_tfidf = hstack((X_test_csr, tfidf_test))\n",
    "\n",
    "# print tfidf features\n",
    "tfidf_feature_names = tfidf_vectorizer.get_feature_names()\n",
    "print (tfidf_feature_names)"
   ]
  },
  {
   "cell_type": "markdown",
   "metadata": {},
   "source": [
    "### Extract tf features"
   ]
  },
  {
   "cell_type": "code",
   "execution_count": 9,
   "metadata": {},
   "outputs": [
    {
     "name": "stdout",
     "output_type": "stream",
     "text": [
      "Extracting tf features...\n",
      "['!', '! !', '! ! !', \"! ''\", \"! '' ]\", \"! 'hi\", '! ]', '! ``', '! `` ``', '! thanks', '! use', '&', \"''\", \"'' ''\", \"'' 'hi\", \"'' 'i\", \"'' >\", \"'' ]\", \"'' ``\", \"'' `` hi\", \"'' button\", \"'' function\", \"'' labview\", \"'' mean\", \"'' use\", \"'' vi\", \"'can\", \"'d\", \"'d like\", \"'dear\", \"'hello\", \"'here\", \"'hey\", \"'hi\", \"'how\", \"'i\", \"'i think\", \"'i try\", \"'i use\", \"'i\\\\\", \"'i\\\\ 'm\", \"'if\", \"'in\", \"'is\", \"'it\", \"'ll\", \"'ll need\", \"'ll try\", \"'m\", \"'m go\", \"'m look\", \"'m sure\", \"'m try\", \"'m use\", \"'ok\", \"'re\", \"'s\", \"'so\", \"'sorry\", \"'thank\", \"'thanks\", \"'that\", \"'the\", \"'there\", \"'this\", \"'ve\", \"'ve attach\", \"'ve get\", \"'ve try\", \"'ve use\", \"'well\", \"'what\", \"'yes\", \"'you\", '-1', '-kevin', '-kevin p', '.exe', '.net', '.vi', '//', '/y', '0', '0 1', '1', '1 2', '1.', '10', '100', '1000', '12', '15', '16', '1d', '1d array', '1st', '2', '2.', '20', '2010', '2011', '2012', '2013', '2014', '2015', '2016', '2017', '24', '2d', '2d array', '2nd', '3', '3.', '30', '32', '32 bit', '32-bit', '32bit', '3d', '3rd', '4', '4.', '40', '5', '50', '6', '64', '64 bit', '64-bit', '64bit', '7', '8', '9', ';', '; //', '; }', '<', '< <', '< < <', '< unknown', '< unknown >', '=', '>', '> 0', '> <', '> >', '> > >', '@', \"[ 'hello\", \"[ 'hi\", \"[ 'i\", '[ ]', '[ ``', '[ `` hello', '[ `` hi', '[ vi', '[ vi ``', '\\\\\\\\', '\\\\\\\\program', '``', \"`` ''\", \"`` 'hello\", \"`` 'hi\", \"`` 'i\", \"`` 'm\", \"`` 's\", \"`` 'thanks\", \"`` 've\", \"`` 'you\", '`` @', '`` ]', '`` ``', '`` `` hi', '`` c', '`` error', '`` get', '`` hello', '`` hey', '`` hi', '`` labview', \"`` n't\", '`` read', '`` save', '`` thank', '`` thanks', '`` try', '`` use', '`` write', '`` yes', 'ability', 'able', 'able find', 'able get', 'able use', 'abort', 'absolute', 'absolutely', 'accelerometer', 'accept', 'access', 'accomplish', 'accord', 'account', 'accurate', 'achieve', 'acquire', 'acquire data', 'acquisition', 'across', 'act', 'action', 'action engine', 'activate', 'active', 'activex', 'actor', 'actual', 'actually', 'adapter', 'adc', 'add', 'addition', 'additional', 'address', 'adjust', 'advance', 'advanced', 'advice', 'advise', 'affect', 'agilent', 'ago', 'agree', 'ai', 'algorithm', 'allocate', 'allocation', 'allow', 'almost', 'along', 'already', 'also', 'also need', 'also try', 'also use', 'altenbach', 'alternative', 'although', 'always', 'amount', 'amplitude', 'analog', 'analog input', 'analog output', 'analysis', 'analyzer', 'and/or', 'angle', 'another', 'answer', 'answer question', 'anybody', 'anymore', 'anyone', 'anyone know', 'anything', 'anyway', 'anywhere', 'ao', 'api', 'app', 'apparently', 'appear', 'append', 'application', 'application engineer', 'apply', 'appreciate', 'approach', 'appropriate', 'architecture', 'arduino', 'area', 'around', 'array', \"array ''\", 'array cluster', 'array element', 'array size', 'array string', 'array use', 'arrow', 'article', 'ascii', 'ask', 'assembly', 'assign', 'assistant', 'associate', 'assume', 'asynchronous', 'attach', 'attach code', 'attach vi', 'attached', 'attached vi', 'attachment', 'attempt', 'attribute', 'audio', 'auto', 'automatically', 'available', 'average', 'avi', 'avoid', 'aware', 'away', 'axis', 'b', 'back', 'background', 'bad', 'bar', 'base', 'basic', 'basically', 'baud', 'baud rate', 'become', 'begin', 'beginner', 'beginning', 'behavior', 'behaviour', 'behind', 'believe', 'ben', 'ben ``', 'ben64', 'best', 'best regard', 'best way', 'better', 'big', 'binary', 'bit', 'black', 'blank', 'block', 'block diagram', 'blue', 'board', 'bob', 'bob schor', 'bob schor ``', 'boolean', 'booleans', 'border', 'bottom', 'box', 'break', 'bring', 'broken', 'browse', 'browser', 'btw', 'buffer', 'bug', 'build', 'build array', 'builder', 'bunch', 'bundle', 'bus', 'button', 'button press', 'buy', 'byte', 'byte port', 'c', 'c \\\\\\\\program', 'c++', 'ca', \"ca n't\", \"ca n't find\", 'cable', 'calculate', 'calculation', 'calibration', 'call', 'call ``', 'call library', 'call library function', 'call library node', 'call vi', 'callback', 'caller', 'camera', \"can\\\\'t\", 'cant', 'capture', 'car', 'card', 'care', 'case', 'case structure', 'cast', 'catch', 'cause', 'cdaq', 'cell', 'certain', 'certainly', 'chance', 'change', 'change value', 'channel', 'char', 'character', 'chart', 'chassis', 'check', 'cheer', 'child', 'choice', 'choose', 'circuit', 'clarify', 'class', 'clean', 'clear', 'clearly', 'click', 'client', 'clock', 'clone', 'close', 'cluster', 'cod', 'code', 'code ``', 'code run', 'code use', 'code work', 'coercion', 'collect', 'color', 'column', 'com', 'com port', 'combination', 'combine', 'come', 'comma', 'command', 'command line', 'comment', 'common', 'communicate', 'communication', 'community', 'company', 'compare', 'comparison', 'compatibility', 'compatible', 'compile', 'compiler', 'complete', 'completely', 'complex', 'complicate', 'component', 'computer', 'concept', 'concern', 'condition', 'conditional', 'config', 'configuration', 'configure', 'confirm', 'conflict', 'confuse', 'connect', 'connection', 'connector', 'consider', 'consist', 'constant', 'consumer', 'consumer loop', 'contact', 'contain', 'content', 'context', 'continue', 'continuous', 'continuously', 'control', 'controller', 'conversion', 'convert', 'converter', 'coordinate', 'copy', 'core', 'correct', 'correctly', 'correspond', 'corresponding', 'corrupt', 'could', 'could also', 'could find', 'could help', \"could n't\", 'could please', 'could use', 'count', 'counter', 'couple', 'course', 'cpu', 'crash', 'create', 'create new', 'create vi', 'crio', 'crossrulz', 'csv', 'csv file', 'curious', 'current', 'currently', 'cursor', 'curve', 'custom', 'customer', 'cycle', 'daq', 'daq assistant', 'daqmx', 'daqmx read', 'data', \"data ''\", 'data ``', 'data acquisition', 'data come', 'data file', 'data flow', 'data point', 'data type', 'data use', 'database', 'dataflow', 'datatype', 'date', 'day', 'db', 'dbl', 'dc', 'de', 'deal', 'dear', 'debug', 'decide', 'decimal', 'def', 'default', 'default value', 'define', 'definitely', 'definition', 'degree', 'delay', 'delete', 'demo', 'depend', 'dependency', 'deploy', 'dequeue', 'describe', 'description', 'design', 'desire', 'desired', 'desktop', 'detail', 'detailed', 'detect', 'detection', 'determine', 'develop', 'developer', 'development', 'device', 'diagram', 'dialog', \"didn\\\\'t\", 'difference', 'different', 'difficult', 'digit', 'digital', 'digital output', 'dimension', 'direct', 'direction', 'directly', 'directory', 'disable', 'disconnect', 'discover', 'discuss', 'discussion', 'disk', 'display', 'distribution', 'divide', 'dll', 'dlls', 'dma', 'document', 'documentation', \"doesn\\\\'t\", \"don\\\\'t\", \"don\\\\'t know\", \"don\\\\'t need\", 'dont', 'dont know', 'dot', 'double', 'doubt', 'download', 'drag', 'draw', 'drive', 'driver', 'drop', 'dsc', 'dt', 'due', 'duplicate', 'dvr', 'dynamic', 'dynamic data', 'dynamically', 'e', 'e.g', 'earlier', 'early', 'easily', 'easy', 'easy way', 'edge', 'edit', 'editor', 'effect', 'efficient', 'effort', 'either', 'elapsed', 'elapsed time', 'element', 'element array', 'eliminate', 'else', 'email', 'embed', 'empty', 'enable', 'encoder', 'encounter', 'end', 'engine', 'engineer', 'english', 'enough', 'ensure', 'enter', 'entire', 'entry', 'enum', 'environment', 'equal', 'equation', 'equipment', 'error', 'error ``', 'error code', 'error error', 'error message', 'error occur', 'especially', 'essentially', 'etc', 'etc.', 'ethernet', 'even', 'even though', 'event', 'event case', 'event structure', 'eventually', 'ever', 'every', 'every time', 'everyone', 'everything', 'everything work', 'exact', 'exactly', 'example', 'example ``', 'example code', 'example use', 'example vi', 'excel', 'excel file', 'except', 'exception', 'exchange', 'exe', 'executable', 'execute', 'execution', 'exist', 'exit', 'expand', 'expect', 'experience', 'experiment', 'explain', 'explanation', 'explicitly', 'explorer', 'export', 'express', 'express vi', 'extension', 'external', 'extra', 'extract', 'f', 'face', 'fact', 'factor', 'fail', 'fairly', 'fall', 'false', 'familiar', 'fan', 'far', 'fast', 'faster', 'feature', 'fee', 'feed', 'feedback', 'feedback node', 'feel', 'fft', 'fgv', 'field', 'fifo', 'figure', 'file', \"file ''\", 'file ``', 'file name', 'file path', 'file use', 'file x86', 'filename', 'fill', 'filter', 'final', 'finally', 'find', 'find example', 'find solution', 'find way', 'fine', 'finish', 'finite', 'fire', 'firewall', 'firmware', 'first', 'first time', 'fit', 'fix', 'fixed', 'flag', 'flat', 'flatten', 'float', 'flow', 'focus', 'folder', 'follow', 'following', 'font', 'force', 'forget', 'form', 'format', 'format string', 'formula', 'forum', 'forward', 'four', 'fp', 'fpga', 'fpga vi', 'frame', 'framework', 'free', 'frequency', 'front', 'front panel', 'full', 'fully', 'function', 'function use', 'functionality', 'future', 'gain', 'general', 'generally', 'generate', 'generation', 'generator', 'generic', 'gerdw', 'get', 'get ``', 'get data', 'get error', 'get rid', 'get start', 'get work', 'give', 'give error', 'global', 'global variable', 'go', 'go back', 'goal', 'good', 'good idea', 'good luck', 'good way', 'google', 'gpib', 'grab', 'graph', 'great', 'greatly', 'greatly appreciate', 'green', 'group', 'grow', 'guarantee', 'guess', 'gui', 'guide', 'guy', 'half', 'hand', 'handle', 'handler', 'hang', 'happen', 'happy', 'hard', 'hardware', \"haven\\\\'t\", 'head', 'header', 'hear', 'hello', 'help', 'help !', 'help ``', 'help would', 'helpful', 'hence', 'here\\\\', \"here\\\\ 's\", 'hex', 'hey', 'hi', 'hide', 'hierarchy', 'high', 'highlight', 'highlight read', 'highly', 'hint', 'history', 'hit', 'hold', 'home', 'hop', 'hope', 'hope help', 'hopefully', 'host', 'hour', 'however', 'http', 'huge', 'hz', 'i.e', 'i/o', 'i2c', 'i\\\\', \"i\\\\ 'd\", \"i\\\\ 'll\", \"i\\\\ 'm\", \"i\\\\ 'm sure\", \"i\\\\ 'm use\", \"i\\\\ 've\", 'icon', 'id', 'ide', 'idea', 'identical', 'identify', 'ignore', 'im', 'image', 'imagine', 'imaq', 'immediately', 'implement', 'implementation', 'import', 'important', 'improve', 'include', 'incorrect', 'increase', 'increment', 'indeed', 'independent', 'index', 'index array', 'indicate', 'indicator', 'individual', 'info', 'information', 'ini', 'init', 'initial', 'initialize', 'inner', 'input', 'input output', 'insert', 'inside', 'inside loop', 'instal', 'instal labview', 'install', 'installation', 'installer', 'instance', 'instead', 'instruction', 'instrument', 'int', 'integer', 'integrate', 'intend', 'intensity', 'interest', 'interested', 'interesting', 'interface', 'internal', 'internet', 'interval', 'introduce', 'invalid', 'invoke', 'invoke node', 'involve', 'io', 'ip', 'ip address', \"isn\\\\'t\", 'issue', 'it\\\\', \"it\\\\ 's\", 'item', 'iterate', 'iteration', 'jeff', 'jens', 'job', 'jump', 'keep', 'keithley', 'key', 'khz', 'kind', 'kind regard', 'know', 'knowledge', 'lab', 'label', 'labview', 'labview 2013', 'labview 2014', 'labview 2015', 'labview 2016', 'labview 2017', 'labview ``', 'labview code', 'labview fpga', 'labview help', 'labview program', 'labview project', 'labview use', 'labview version', 'labview vi', 'language', 'laptop', 'large', 'last', 'late', 'later', 'launch', 'lead', 'learn', 'least', 'leave', 'led', 'left', 'legend', 'length', 'less', 'let', 'let know', 'level', 'library', 'library function', 'library node', 'license', 'light', 'like', 'like ``', 'like use', 'likely', 'limit', 'limitation', 'line', 'linear', 'link', 'linux', 'linx', 'list', 'little', 'little bit', 'live', 'llb', 'load', 'load cell', 'local', 'local variable', 'locate', 'location', 'lock', 'log', 'logic', 'long', 'long time', 'longer', 'look', 'look like', 'loop', 'loop ``', 'loop iteration', 'loop run', 'loop stop', 'loop use', 'lose', 'lot', 'low', 'luck', 'lv', 'lvrt', 'mac', 'machine', 'main', 'main vi', 'maintain', 'make', 'make sense', 'make sure', 'make vi', 'make work', 'manage', 'manager', 'manual', 'manually', 'manufacturer', 'many', 'many thanks', 'map', 'mark', 'master', 'match', 'math', 'matlab', 'matrix', 'matter', 'max', 'maximum', 'may', 'maybe', 'mcduff', 'mean', 'mean ``', 'measure', 'measurement', 'memory', 'mention', 'menu', 'merge', 'mess', 'message', 'meter', 'method', 'microsoft', 'middle', 'might', 'might want', 'millisecond', 'min', 'mind', 'mine', 'minimum', 'minute', 'miss', 'mistake', 'modbus', 'mode', 'model', 'modification', 'modify', 'module', 'moment', 'monitor', 'month', 'mostly', 'motion', 'motor', 'mouse', 'move', 'msec', 'much', 'much !', 'multiple', 'multiply', 'must', 'myrio', 'n', \"n't\", \"n't find\", \"n't get\", \"n't know\", \"n't need\", \"n't really\", \"n't see\", \"n't seem\", \"n't think\", \"n't understand\", \"n't use\", \"n't want\", \"n't work\", 'name', 'national', 'national instrument', 'native', 'near', 'necessary', 'need', 'need ``', 'need change', 'need create', 'need get', 'need help', 'need know', 'need make', 'need use', 'negative', 'network', 'network stream', 'never', 'never use', 'new', 'new labview', 'new version', 'next', 'ni', 'ni max', 'ni-daqmx', 'nice', 'node', 'noise', 'none', 'normal', 'normally', 'note', 'nothing', 'notice', 'null', 'number', 'number sample', 'numeric', 'nxg', 'object', 'obtain', 'obvious', 'obviously', 'occur', 'odd', 'offer', 'office', 'offset', 'often', 'oh', 'ok', 'old', 'old version', 'one', 'one ``', 'one thing', 'one time', 'online', 'onto', 'op', 'opc', 'open', 'open file', 'open vi', 'operate', 'operation', 'opinion', 'option', 'order', 'original', 'os', 'oscilloscope', 'others', 'otherwise', 'outer', 'output', 'outside', 'outside loop', 'overlay', 'overwrite', 'p', 'package', 'packet', 'page', 'pair', 'palette', 'pane', 'panel', 'paper', 'parallel', 'parallel loop', 'parameter', 'parent', 'parse', 'part', 'particular', 'party', 'pas', 'pass', 'password', 'past', 'paste', 'patch', 'path', 'pattern', 'pause', 'pc', 'pdf', 'peak', 'people', 'per', 'per second', 'perfect', 'perfectly', 'perform', 'performance', 'perhaps', 'period', 'person', 'phase', 'physical', 'pic', 'pick', 'picture', 'pid', 'piece', 'pin', 'pixel', 'place', 'plan', 'platform', 'play', 'plc', 'please', 'please help', 'please let', 'please let know', 'plot', 'plug', 'plugin', 'point', 'pointer', 'poll', 'pop', 'port', 'portion', 'position', 'possibility', 'possible', 'possibly', 'post', 'post code', 'power', 'power supply', 'ppl', 'practice', 'precision', 'prefer', 'present', 'press', 'pressure', 'pretty', 'prevent', 'previous', 'previously', 'primitive', 'print', 'priority', 'private', 'probably', 'probe', 'problem', 'problem ``', 'problem use', 'procedure', 'process', 'processing', 'processor', 'produce', 'producer', 'producer/consumer', 'product', 'profile', 'program', 'program labview', 'program run', 'programmatically', 'programmer', 'programming', 'progress', 'project', 'prompt', 'proper', 'properly', 'property', 'property node', 'protocol', 'provide', 'pull', 'pulse', 'pump', 'purpose', 'push', 'put', 'pwm', 'pxi', 'python', 'query', 'question', 'queue', 'quick', 'quickly', 'quite', 'r', 'race', 'race condition', 'radio', 'ram', 'ramp', 'random', 'range', 'rate', 'rather', 'ravensfan', 'raw', 'reach', 'read', 'read data', 'read write', 'read/write', 'reader', 'reading', 'ready', 'real', 'real time', 'real-time', 'realize', 'really', 'really need', 'reason', 'reasonable', 'reboot', 'recall', 'receive', 'receiver', 'recent', 'recently', 'recognize', 'recommend', 'record', 'red', 'reduce', 'reentrant', 'ref', 'refer', 'reference', 'refnum', 'regard', 'register', 'regular', 'reinstall', 'relate', 'relative', 'relatively', 'relay', 'release', 'relevant', 'remain', 'remember', 'remote', 'remove', 'rename', 'repair', 'repeat', 'replace', 'reply', 'report', 'report generation', 'represent', 'representation', 'reproduce', 'request', 'require', 'required', 'requirement', 'research', 'reset', 'resize', 'resolution', 'resolve', 'resource', 'respond', 'response', 'rest', 'restart', 'result', 'retrieve', 'return', 'reverse', 'review', 'rid', 'right', 'right click', 'right-click', 'ring', 'rio', 'round', 'routine', 'row', 'rs232', 'rt', 'rule', 'run', 'run ``', 'run code', 'run labview', 'run program', 'run time', 'run vi', 'run-time', 'running', 'runtime', 'safe', 'sample', 'sample clock', 'sample rate', 'sampling', 'save', 'save data', 'saw', 'say', 'say ``', 'scale', 'scan', 'schor', 'schor ``', 'scope', 'screen', 'screen shot', 'screenshot', 'screenshots', 'script', 'scroll', 'search', 'sec', 'second', 'section', 'see', 'see ``', 'see attached', 'seem', 'seem like', 'seem work', 'select', 'select ``', 'selection', 'send', 'send command', 'send data', 'sense', 'sensor', 'separate', 'sequence', 'sequence structure', 'serial', 'serial port', 'series', 'server', 'service', 'session', 'set', 'set ``', 'setting', 'setup', 'several', 'share', 'share variable', 'sheet', 'shift', 'shift register', 'short', 'shot', 'show', 'show us', 'side', 'signal', 'similar', 'simple', 'simpler', 'simplify', 'simply', 'simulate', 'simulation', 'simultaneously', 'since', 'sine', 'sine wave', 'single', 'sir', 'site', 'situation', 'size', 'slave', 'slider', 'slightly', 'slow', 'small', 'snippet', 'software', 'solution', 'solve', 'solve problem', 'somebody', 'somehow', 'someone', 'someone help', 'something', 'something else', 'something like', 'sometimes', 'somewhat', 'somewhere', 'soon', 'sorry', 'sort', 'sound', 'sound like', 'source', 'source code', 'sp1', 'space', 'spec', 'special', 'specific', 'specifically', 'specification', 'specify', 'spectrum', 'speed', 'spend', 'spi', 'split', 'spoiler', 'spoiler highlight', 'spoiler highlight read', 'spreadsheet', 'sql', 'square', 'stack', 'stage', 'stamp', 'stand', 'standard', 'start', 'start labview', 'startup', 'state', 'state machine', 'statement', 'static', 'status', 'stay', 'step', 'stepper', 'stick', 'still', 'still get', 'stop', 'stop button', 'store', 'straight', 'strain', 'strange', 'stream', 'string', \"string ''\", 'string array', 'structure', 'student', 'studio', 'stuff', 'style', 'sub', 'sub vi', 'sub-vi', 'subset', 'subtract', 'subvi', 'subvis', 'success', 'successfully', 'sufficient', 'suggest', 'suggestion', 'sum', 'supply', 'support', 'suppose', 'sure', 'suspect', 'switch', 'symbol', 'sync', 'synchronize', 'system', 'tab', 'tab control', 'table', 'tag', 'take', 'take look', 'take time', 'talk', 'target', 'task', 'tcp', 'tcp/ip', 'tdms', 'tdms file', 'technique', 'tell', 'tell us', 'temp', 'temperature', 'template', 'term', 'terminal', 'terminate', 'termination', 'termination character', 'test', 'teststand', 'text', 'text file', 'thank', 'thank !', 'thank ``', 'thank advance', 'thank help', 'thank lot', 'thank much', 'thanks', 'thanks !', 'thanks ! ``', \"thanks ''\", 'thanks ``', 'thanks advance', 'thanks help', 'thanks reply', 'that\\\\', \"that\\\\ 's\", 'there\\\\', \"there\\\\ 's\", 'therefore', 'thermocouple', 'thing', 'think', 'think would', 'third', 'though', 'thought', 'thread', 'three', 'threshold', 'throw', 'thus', 'tick', 'time', \"time ''\", 'time ``', 'time loop', 'time stamp', 'time use', 'timed', 'timed loop', 'timeout', 'timer', 'timestamp', 'timing', 'tip', 'title', 'today', 'together', 'tool', 'toolkit', 'top', 'top level', 'topic', 'total', 'trace', 'track', 'train', 'training', 'transfer', 'transmit', 'tree', 'trial', 'trick', 'trigger', 'trouble', 'troubleshoot', 'true', 'try', 'try ``', 'try create', 'try get', 'try make', 'try open', 'try read', 'try run', 'try use', 'try write', 'tunnel', 'turn', 'tutorial', 'twice', 'two', 'two different', 'type', 'type def', 'typedef', 'typical', 'typically', 'u', 'u32', 'u8', 'udp', 'ui', 'unable', 'unbundle', 'understand', 'understanding', 'unfortunately', 'unicode', 'uninstall', 'unique', 'unit', 'unknown', 'unknown >', 'unknown > 0', 'unless', 'unsigned', 'update', 'upgrade', 'upload', 'upon', 'upper', 'url', 'us', 'usage', 'usb', 'use', 'use ``', 'use array', 'use case', 'use daqmx', 'use event', 'use event structure', 'use function', 'use labview', 'use local', 'use loop', 'use ni', 'use one', 'use property', 'use property node', 'use shift', 'use shift register', 'use two', 'use vi', 'use visa', 'useful', 'user', 'user event', 'usually', 'utility', 'v', 'valid', 'value', 'value ``', 'value change', 'variable', 'variant', 'various', 'vary', 'vector', 'verify', 'version', 'version labview', 'vi', \"vi ''\", \"vi 's\", 'vi ``', 'vi attach', 'vi call', 'vi reference', 'vi run', 'vi server', 'vi use', 'vi work', 'vi\\\\', \"vi\\\\ 's\", 'via', 'video', 'view', 'vipm', 'virtual', 'vis', 'visa', 'visa read', 'visible', 'vision', 'visual', 'voltage', 'wait', 'want', 'want ``', 'want know', 'want make', 'want read', 'want use', 'warning', 'watch', 'wave', 'waveform', 'waveform chart', 'waveform graph', 'way', 'way get', 'web', 'web service', 'website', 'week', 'weird', 'welcome', 'well', 'what\\\\', \"what\\\\ 's\", 'whatever', 'whenever', 'whether', 'white', 'whole', 'width', 'window', 'window 10', 'window 7', 'windows', 'wire', 'wish', 'within', 'without', 'wo', \"wo n't\", \"won\\\\'t\", 'wonder', 'word', 'work', 'work !', 'work ``', 'work fine', 'work labview', 'work well', 'workaround', 'working', 'worksheet', 'worry', 'worth', 'would', 'would also', 'would appreciate', 'would help', 'would like', \"would n't\", 'would need', 'would recommend', 'would use', 'would work', 'wrap', 'wrapper', 'write', 'write ``', 'write code', 'write data', 'write file', 'write hi', 'write labview', 'write read', 'wrong', 'x', 'x-axis', 'x86', 'xilinx', 'xml', 'xp', 'xy', 'xy graph', 'year', 'year ago', 'yes', 'yet', 'you\\\\', \"you\\\\ 'll\", \"you\\\\ 're\", \"you\\\\ 've\", 'z', 'zero', 'zip', '{', '|', '}']\n"
     ]
    }
   ],
   "source": [
    "print(\"Extracting tf features...\")\n",
    "tf_vectorizer = CountVectorizer(max_df=0.95, min_df=2,\n",
    "                                max_features=n_features,\n",
    "                                strip_accents = 'unicode',\n",
    "                                tokenizer = LemmaTokenizer(),\n",
    "                                ngram_range = (1,3),\n",
    "                                stop_words=all_stop_words_punct)\n",
    "\n",
    "tf_train = tf_vectorizer.fit_transform(X_train['Message Bodies'])\n",
    "tf_test = tf_vectorizer.transform(X_test['Message Bodies'])\n",
    "\n",
    "X_train_tf = hstack((X_train_csr, tf_train))\n",
    "X_test_tf = hstack((X_test_csr, tf_test))\n",
    "\n",
    "# print tfidf features\n",
    "tf_feature_names = tf_vectorizer.get_feature_names()\n",
    "print (tf_feature_names)"
   ]
  },
  {
   "cell_type": "markdown",
   "metadata": {},
   "source": [
    "# Step 2. Data Pre-Processing"
   ]
  },
  {
   "cell_type": "code",
   "execution_count": 10,
   "metadata": {},
   "outputs": [],
   "source": [
    "# undersample data\n",
    "from imblearn.under_sampling import RandomUnderSampler \n",
    "\n",
    "def undersample(X_train, y_train):\n",
    "    rus = RandomUnderSampler(random_state=42)\n",
    "    X_train_res, y_train_res = rus.fit_sample(X_train, y_train)\n",
    "        \n",
    "    return X_train_res, y_train_res"
   ]
  },
  {
   "cell_type": "code",
   "execution_count": 11,
   "metadata": {},
   "outputs": [],
   "source": [
    "# standard scale data\n",
    "from sklearn.preprocessing import StandardScaler\n",
    "\n",
    "def standardscale(X_train, X_test):\n",
    "    # transform scale of data\n",
    "    ss = StandardScaler()\n",
    "    X_train_scaled = ss.fit_transform(X_train)\n",
    "    X_test_scaled = ss.transform(X_test)\n",
    "    return X_train_scaled, X_test_scaled"
   ]
  },
  {
   "cell_type": "markdown",
   "metadata": {},
   "source": [
    "# Step 3. Model Training"
   ]
  },
  {
   "cell_type": "code",
   "execution_count": 12,
   "metadata": {},
   "outputs": [],
   "source": [
    "from sklearn.ensemble import RandomForestClassifier\n",
    "from sklearn.neural_network import MLPClassifier\n",
    "from sklearn.svm import SVC\n",
    "\n",
    "from sklearn.metrics import accuracy_score\n",
    "from sklearn.metrics import precision_score\n",
    "from sklearn.metrics import recall_score\n",
    "\n",
    "def train(X_train, X_test, y_train, y_test):\n",
    "    \n",
    "    # set up models\n",
    "    rf = RandomForestClassifier(random_state = 42, class_weight='balanced')\n",
    "    svm = SVC(random_state = 42, class_weight='balanced')\n",
    "    mlp = MLPClassifier(random_state = 42)\n",
    "\n",
    "    models = [('Random Forest', rf), \n",
    "          ('Support Vector Machine', svm),\n",
    "          ('Neural Networks', mlp)]\n",
    "\n",
    "    performance = {'Model': [], 'Accuracy': [], 'Precision': [], 'Recall': []}\n",
    "\n",
    "    for model_name, cur_model in models:\n",
    "        cur_model.fit(X_train, y_train)\n",
    "        y_predicted = cur_model.predict(X_test)\n",
    "        \n",
    "        accuracy = accuracy_score(y_predicted, y_test)\n",
    "        precision = precision_score(y_predicted, y_test)\n",
    "        recall = recall_score(y_predicted, y_test)\n",
    "        \n",
    "        performance['Model'].append(model_name)\n",
    "        performance['Accuracy'].append(accuracy)\n",
    "        performance['Precision'].append(precision)\n",
    "        performance['Recall'].append(recall)\n",
    "\n",
    "    return (performance)"
   ]
  },
  {
   "cell_type": "markdown",
   "metadata": {},
   "source": [
    "## Baseline"
   ]
  },
  {
   "cell_type": "code",
   "execution_count": 13,
   "metadata": {},
   "outputs": [
    {
     "data": {
      "text/html": [
       "<div>\n",
       "<style scoped>\n",
       "    .dataframe tbody tr th:only-of-type {\n",
       "        vertical-align: middle;\n",
       "    }\n",
       "\n",
       "    .dataframe tbody tr th {\n",
       "        vertical-align: top;\n",
       "    }\n",
       "\n",
       "    .dataframe thead th {\n",
       "        text-align: right;\n",
       "    }\n",
       "</style>\n",
       "<table border=\"1\" class=\"dataframe\">\n",
       "  <thead>\n",
       "    <tr style=\"text-align: right;\">\n",
       "      <th></th>\n",
       "      <th>Accuracy</th>\n",
       "      <th>Precision</th>\n",
       "      <th>Recall</th>\n",
       "    </tr>\n",
       "  </thead>\n",
       "  <tbody>\n",
       "    <tr>\n",
       "      <th>Random Forest</th>\n",
       "      <td>0.700333</td>\n",
       "      <td>0.422072</td>\n",
       "      <td>0.590786</td>\n",
       "    </tr>\n",
       "    <tr>\n",
       "      <th>Support Vector Machine</th>\n",
       "      <td>0.655667</td>\n",
       "      <td>0.007744</td>\n",
       "      <td>0.500000</td>\n",
       "    </tr>\n",
       "    <tr>\n",
       "      <th>Neural Networks</th>\n",
       "      <td>0.559667</td>\n",
       "      <td>0.662149</td>\n",
       "      <td>0.413043</td>\n",
       "    </tr>\n",
       "  </tbody>\n",
       "</table>\n",
       "</div>"
      ],
      "text/plain": [
       "                        Accuracy  Precision    Recall\n",
       "Random Forest           0.700333   0.422072  0.590786\n",
       "Support Vector Machine  0.655667   0.007744  0.500000\n",
       "Neural Networks         0.559667   0.662149  0.413043"
      ]
     },
     "execution_count": 13,
     "metadata": {},
     "output_type": "execute_result"
    }
   ],
   "source": [
    "# baseline\n",
    "performance = train(X_train_features, X_test_features, y_train, y_test)\n",
    "df = pd.DataFrame(performance, index=performance['Model'], columns = ['Accuracy', 'Precision', 'Recall'])\n",
    "df"
   ]
  },
  {
   "cell_type": "markdown",
   "metadata": {},
   "source": [
    "## Experiment One"
   ]
  },
  {
   "cell_type": "code",
   "execution_count": 14,
   "metadata": {},
   "outputs": [],
   "source": [
    "# get data\n",
    "from sklearn.model_selection import train_test_split\n",
    "\n",
    "thread_df = pd.read_csv('data.csv', encoding='utf-8')\n",
    "\n",
    "X_data = thread_df.drop(columns=['Solution Count'])\n",
    "y_data = thread_df['Solution Count']\n",
    "\n",
    "#Create 70-30 splits\n",
    "X_train, X_test, y_train, y_test = train_test_split(X_data, \n",
    "                                                    y_data, \n",
    "                                                    random_state=42, \n",
    "                                                    train_size=.7, \n",
    "                                                    test_size=.3)"
   ]
  },
  {
   "cell_type": "code",
   "execution_count": 15,
   "metadata": {},
   "outputs": [],
   "source": [
    "# transform data\n",
    "X_train_scaled, X_test_scaled = standardscale(X_train, X_test)\n",
    "\n",
    "#     # undersample data\n",
    "#     X_train_res, y_train_res = standardscale(X_train_scaled, y_train)"
   ]
  },
  {
   "cell_type": "code",
   "execution_count": 16,
   "metadata": {},
   "outputs": [
    {
     "data": {
      "text/html": [
       "<div>\n",
       "<style scoped>\n",
       "    .dataframe tbody tr th:only-of-type {\n",
       "        vertical-align: middle;\n",
       "    }\n",
       "\n",
       "    .dataframe tbody tr th {\n",
       "        vertical-align: top;\n",
       "    }\n",
       "\n",
       "    .dataframe thead th {\n",
       "        text-align: right;\n",
       "    }\n",
       "</style>\n",
       "<table border=\"1\" class=\"dataframe\">\n",
       "  <thead>\n",
       "    <tr style=\"text-align: right;\">\n",
       "      <th></th>\n",
       "      <th>Accuracy</th>\n",
       "      <th>Precision</th>\n",
       "      <th>Recall</th>\n",
       "    </tr>\n",
       "  </thead>\n",
       "  <tbody>\n",
       "    <tr>\n",
       "      <th>Random Forest</th>\n",
       "      <td>0.709667</td>\n",
       "      <td>0.395934</td>\n",
       "      <td>0.623476</td>\n",
       "    </tr>\n",
       "    <tr>\n",
       "      <th>Support Vector Machine</th>\n",
       "      <td>0.695000</td>\n",
       "      <td>0.601162</td>\n",
       "      <td>0.552491</td>\n",
       "    </tr>\n",
       "    <tr>\n",
       "      <th>Neural Networks</th>\n",
       "      <td>0.721000</td>\n",
       "      <td>0.454017</td>\n",
       "      <td>0.632075</td>\n",
       "    </tr>\n",
       "  </tbody>\n",
       "</table>\n",
       "</div>"
      ],
      "text/plain": [
       "                        Accuracy  Precision    Recall\n",
       "Random Forest           0.709667   0.395934  0.623476\n",
       "Support Vector Machine  0.695000   0.601162  0.552491\n",
       "Neural Networks         0.721000   0.454017  0.632075"
      ]
     },
     "execution_count": 16,
     "metadata": {},
     "output_type": "execute_result"
    }
   ],
   "source": [
    "# baseline + thread based features\n",
    "from sklearn.metrics import accuracy_score\n",
    "from sklearn import metrics\n",
    "\n",
    "performance = train(X_train_scaled, X_test_scaled, y_train, y_test)\n",
    "df = pd.DataFrame(performance, index=performance['Model'], columns = ['Accuracy', 'Precision', 'Recall'])\n",
    "df"
   ]
  },
  {
   "cell_type": "markdown",
   "metadata": {},
   "source": [
    "## Experiment Two"
   ]
  },
  {
   "cell_type": "code",
   "execution_count": 17,
   "metadata": {},
   "outputs": [
    {
     "data": {
      "text/html": [
       "<div>\n",
       "<style scoped>\n",
       "    .dataframe tbody tr th:only-of-type {\n",
       "        vertical-align: middle;\n",
       "    }\n",
       "\n",
       "    .dataframe tbody tr th {\n",
       "        vertical-align: top;\n",
       "    }\n",
       "\n",
       "    .dataframe thead th {\n",
       "        text-align: right;\n",
       "    }\n",
       "</style>\n",
       "<table border=\"1\" class=\"dataframe\">\n",
       "  <thead>\n",
       "    <tr style=\"text-align: right;\">\n",
       "      <th></th>\n",
       "      <th>Accuracy</th>\n",
       "      <th>Precision</th>\n",
       "      <th>Recall</th>\n",
       "    </tr>\n",
       "  </thead>\n",
       "  <tbody>\n",
       "    <tr>\n",
       "      <th>Random Forest</th>\n",
       "      <td>0.665667</td>\n",
       "      <td>0.270087</td>\n",
       "      <td>0.528409</td>\n",
       "    </tr>\n",
       "    <tr>\n",
       "      <th>Support Vector Machine</th>\n",
       "      <td>0.634667</td>\n",
       "      <td>0.105518</td>\n",
       "      <td>0.387900</td>\n",
       "    </tr>\n",
       "    <tr>\n",
       "      <th>Neural Networks</th>\n",
       "      <td>0.637000</td>\n",
       "      <td>0.208132</td>\n",
       "      <td>0.442387</td>\n",
       "    </tr>\n",
       "  </tbody>\n",
       "</table>\n",
       "</div>"
      ],
      "text/plain": [
       "                        Accuracy  Precision    Recall\n",
       "Random Forest           0.665667   0.270087  0.528409\n",
       "Support Vector Machine  0.634667   0.105518  0.387900\n",
       "Neural Networks         0.637000   0.208132  0.442387"
      ]
     },
     "execution_count": 17,
     "metadata": {},
     "output_type": "execute_result"
    }
   ],
   "source": [
    "# baseline + tf\n",
    "performance = train(X_train_tf, X_test_tf, y_train, y_test)\n",
    "df = pd.DataFrame(performance, index=performance['Model'], columns = ['Accuracy', 'Precision', 'Recall'])\n",
    "df"
   ]
  },
  {
   "cell_type": "code",
   "execution_count": 18,
   "metadata": {},
   "outputs": [
    {
     "data": {
      "text/html": [
       "<div>\n",
       "<style scoped>\n",
       "    .dataframe tbody tr th:only-of-type {\n",
       "        vertical-align: middle;\n",
       "    }\n",
       "\n",
       "    .dataframe tbody tr th {\n",
       "        vertical-align: top;\n",
       "    }\n",
       "\n",
       "    .dataframe thead th {\n",
       "        text-align: right;\n",
       "    }\n",
       "</style>\n",
       "<table border=\"1\" class=\"dataframe\">\n",
       "  <thead>\n",
       "    <tr style=\"text-align: right;\">\n",
       "      <th></th>\n",
       "      <th>Accuracy</th>\n",
       "      <th>Precision</th>\n",
       "      <th>Recall</th>\n",
       "    </tr>\n",
       "  </thead>\n",
       "  <tbody>\n",
       "    <tr>\n",
       "      <th>Random Forest</th>\n",
       "      <td>0.664667</td>\n",
       "      <td>0.235237</td>\n",
       "      <td>0.529412</td>\n",
       "    </tr>\n",
       "    <tr>\n",
       "      <th>Support Vector Machine</th>\n",
       "      <td>0.625000</td>\n",
       "      <td>0.133591</td>\n",
       "      <td>0.375000</td>\n",
       "    </tr>\n",
       "    <tr>\n",
       "      <th>Neural Networks</th>\n",
       "      <td>0.637667</td>\n",
       "      <td>0.066796</td>\n",
       "      <td>0.359375</td>\n",
       "    </tr>\n",
       "  </tbody>\n",
       "</table>\n",
       "</div>"
      ],
      "text/plain": [
       "                        Accuracy  Precision    Recall\n",
       "Random Forest           0.664667   0.235237  0.529412\n",
       "Support Vector Machine  0.625000   0.133591  0.375000\n",
       "Neural Networks         0.637667   0.066796  0.359375"
      ]
     },
     "execution_count": 18,
     "metadata": {},
     "output_type": "execute_result"
    }
   ],
   "source": [
    "# baseline + tf-idf\n",
    "performance = train(X_train_tfidf, X_test_tfidf, y_train, y_test)\n",
    "df = pd.DataFrame(performance, index=performance['Model'], columns = ['Accuracy', 'Precision', 'Recall'])\n",
    "df"
   ]
  },
  {
   "cell_type": "code",
   "execution_count": null,
   "metadata": {},
   "outputs": [],
   "source": []
  }
 ],
 "metadata": {
  "kernelspec": {
   "display_name": "Python 3",
   "language": "python",
   "name": "python3"
  },
  "language_info": {
   "codemirror_mode": {
    "name": "ipython",
    "version": 3
   },
   "file_extension": ".py",
   "mimetype": "text/x-python",
   "name": "python",
   "nbconvert_exporter": "python",
   "pygments_lexer": "ipython3",
   "version": "3.6.5"
  }
 },
 "nbformat": 4,
 "nbformat_minor": 2
}
