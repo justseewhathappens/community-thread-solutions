{
 "cells": [
  {
   "cell_type": "code",
   "execution_count": 3,
   "metadata": {},
   "outputs": [],
   "source": [
    "import numpy as np\n",
    "import pandas as pd\n",
    "from bs4 import BeautifulSoup\n",
    "import os\n",
    "from time import time\n"
   ]
  },
  {
   "cell_type": "markdown",
   "metadata": {},
   "source": [
    "# Feature Extraction"
   ]
  },
  {
   "cell_type": "code",
   "execution_count": 2,
   "metadata": {},
   "outputs": [],
   "source": [
    "folder_path = 'Desktop/data_output/'\n",
    "all_files = os.listdir(folder_path)\n",
    "thread_data_1 = pd.DataFrame()\n",
    "for file_name in all_files:\n",
    "    doc_df = pd.read_csv(folder_path+file_name, encoding=('iso-8859-1'))\n",
    "    thread_data_1 = thread_data_1.append(doc_df, ignore_index= True)"
   ]
  },
  {
   "cell_type": "code",
   "execution_count": 3,
   "metadata": {},
   "outputs": [
    {
     "name": "stderr",
     "output_type": "stream",
     "text": [
      "/usr/local/Cellar/python3/3.6.3/Frameworks/Python.framework/Versions/3.6/lib/python3.6/site-packages/nltk/twitter/__init__.py:20: UserWarning: The twython library has not been installed. Some functionality from the twitter package will not be available.\n",
      "  warnings.warn(\"The twython library has not been installed. \"\n"
     ]
    }
   ],
   "source": [
    "from nltk.sentiment.vader import SentimentIntensityAnalyzer\n",
    "sid = SentimentIntensityAnalyzer()\n",
    "\n",
    "for i in range(len(thread_data_1)):\n",
    "    # do counts\n",
    "    Message_soup = BeautifulSoup(thread_data_1['Message HTML'][i], 'html.parser')\n",
    "    thread_data_1.loc[i, 'img_count'] = len(Message_soup.find_all('img')) - len(Message_soup.find_all('img', class_='emoticon'))  # count image tags\n",
    "    thread_data_1.loc[i, 'p_count'] = len(Message_soup.find_all('p'))    # count p tags\n",
    "    thread_data_1.loc[i, 'word_count'] = len(Message_soup.get_text().split(' ')) # count words\n",
    "    \n",
    "    # get sentiment\n",
    "    Message_bodies = thread_data_1['Message Bodies'][i].replace(\"\\\\xa0\", \"\").replace(\"\\\\n\", \"\")\n",
    "    ss = sid.polarity_scores(Message_bodies)\n",
    "    \n",
    "    thread_data_1.loc[i, 'compound'] = ss['compound']\n",
    "    thread_data_1.loc[i, 'neg'] = ss['neg']\n",
    "    thread_data_1.loc[i, 'neu'] = ss['neu']\n",
    "    thread_data_1.loc[i, 'pos'] = ss['pos']"
   ]
  },
  {
   "cell_type": "code",
   "execution_count": 24,
   "metadata": {},
   "outputs": [],
   "source": [
    "for i in range(len(thread_data_1)):\n",
    "    thread_data_1.loc[i, 'user_count'] = len(thread_data_1['User List'][i].split(','))"
   ]
  },
  {
   "cell_type": "code",
   "execution_count": 26,
   "metadata": {},
   "outputs": [],
   "source": [
    "thread_data_1.to_csv('features.csv', encoding='utf-8')"
   ]
  },
  {
   "cell_type": "markdown",
   "metadata": {},
   "source": [
    "# Model Training"
   ]
  },
  {
   "cell_type": "code",
   "execution_count": 4,
   "metadata": {},
   "outputs": [],
   "source": [
    "from sklearn.ensemble import RandomForestClassifier\n",
    "from sklearn.neural_network import MLPClassifier\n",
    "from sklearn.svm import SVC\n",
    "\n",
    "from sklearn.preprocessing import StandardScaler\n",
    "from sklearn.metrics import accuracy_score\n",
    "from sklearn.metrics import precision_score\n",
    "from sklearn.metrics import recall_score\n",
    "\n",
    "def train(Xdata, ydata):\n",
    "    #Create 70-30 splits\n",
    "    X_train, X_test, y_train, y_test = train_test_split(Xdata, \n",
    "                                                    ydata, \n",
    "                                                    random_state=42, \n",
    "                                                    train_size=.7, \n",
    "                                                    test_size=.3)\n",
    "    \n",
    "    # transform scale of data\n",
    "    ss = StandardScaler()\n",
    "    X_train_scaled = ss.fit_transform(X_train)\n",
    "    X_test_scaled = ss.transform(X_test)\n",
    "    \n",
    "    # set up models\n",
    "    rf = RandomForestClassifier(random_state = 42, class_weight=\"balanced\")\n",
    "    svm = SVC(random_state = 42, class_weight=\"balanced\")\n",
    "    mlp = MLPClassifier(random_state = 42)\n",
    "\n",
    "    models = [('Random Forest', rf), \n",
    "          ('Support Vector Machine', svm),\n",
    "          ('Neural Networks', mlp)]\n",
    "\n",
    "    performance = {'Model': [], 'Accuracy': [], 'Precision': [], 'Recall': []}\n",
    "\n",
    "    for model_name, cur_model in models:\n",
    "        cur_model.fit(X_train_scaled, y_train)\n",
    "        y_predicted = cur_model.predict(X_test_scaled)\n",
    "        \n",
    "        accuracy = accuracy_score(y_predicted, y_test)\n",
    "        precision = precision_score(y_predicted, y_test)\n",
    "        recall = recall_score(y_predicted, y_test)\n",
    "        \n",
    "        performance['Model'].append(model_name)\n",
    "        performance['Accuracy'].append(accuracy)\n",
    "        performance['Precision'].append(precision)\n",
    "        performance['Recall'].append(recall)\n",
    "\n",
    "    return (performance)"
   ]
  },
  {
   "cell_type": "code",
   "execution_count": 5,
   "metadata": {},
   "outputs": [],
   "source": [
    "thread_df = pd.read_csv('features.csv', encoding='utf-8')"
   ]
  },
  {
   "cell_type": "code",
   "execution_count": 6,
   "metadata": {},
   "outputs": [],
   "source": [
    "from sklearn.metrics import accuracy_score\n",
    "from sklearn import metrics\n",
    "from sklearn.model_selection import train_test_split\n",
    "\n",
    "thread_X = thread_df.drop(columns=['Solution Count', 'Thread ID', 'Message List', 'User List', 'Message HTML', 'Post Times', 'Message Bodies'])\n",
    "thread_y = [0 if x==0 else 1 for x in thread_df['Solution Count']]  \n",
    "\n",
    "performance = train(thread_X, thread_y)\n",
    "df = pd.DataFrame(performance, index=performance['Model'], columns = ['Accuracy', 'Precision', 'Recall'])"
   ]
  },
  {
   "cell_type": "code",
   "execution_count": 7,
   "metadata": {
    "scrolled": true
   },
   "outputs": [
    {
     "data": {
      "text/html": [
       "<div>\n",
       "<style scoped>\n",
       "    .dataframe tbody tr th:only-of-type {\n",
       "        vertical-align: middle;\n",
       "    }\n",
       "\n",
       "    .dataframe tbody tr th {\n",
       "        vertical-align: top;\n",
       "    }\n",
       "\n",
       "    .dataframe thead th {\n",
       "        text-align: right;\n",
       "    }\n",
       "</style>\n",
       "<table border=\"1\" class=\"dataframe\">\n",
       "  <thead>\n",
       "    <tr style=\"text-align: right;\">\n",
       "      <th></th>\n",
       "      <th>Accuracy</th>\n",
       "      <th>Precision</th>\n",
       "      <th>Recall</th>\n",
       "    </tr>\n",
       "  </thead>\n",
       "  <tbody>\n",
       "    <tr>\n",
       "      <th>Random Forest</th>\n",
       "      <td>0.706667</td>\n",
       "      <td>0.391094</td>\n",
       "      <td>0.616794</td>\n",
       "    </tr>\n",
       "    <tr>\n",
       "      <th>Support Vector Machine</th>\n",
       "      <td>0.700000</td>\n",
       "      <td>0.584705</td>\n",
       "      <td>0.561860</td>\n",
       "    </tr>\n",
       "    <tr>\n",
       "      <th>Neural Networks</th>\n",
       "      <td>0.718667</td>\n",
       "      <td>0.515973</td>\n",
       "      <td>0.607754</td>\n",
       "    </tr>\n",
       "  </tbody>\n",
       "</table>\n",
       "</div>"
      ],
      "text/plain": [
       "                        Accuracy  Precision    Recall\n",
       "Random Forest           0.706667   0.391094  0.616794\n",
       "Support Vector Machine  0.700000   0.584705  0.561860\n",
       "Neural Networks         0.718667   0.515973  0.607754"
      ]
     },
     "execution_count": 7,
     "metadata": {},
     "output_type": "execute_result"
    }
   ],
   "source": [
    "df"
   ]
  },
  {
   "cell_type": "code",
   "execution_count": null,
   "metadata": {},
   "outputs": [],
   "source": []
  }
 ],
 "metadata": {
  "kernelspec": {
   "display_name": "Python 3",
   "language": "python",
   "name": "python3"
  },
  "language_info": {
   "codemirror_mode": {
    "name": "ipython",
    "version": 3
   },
   "file_extension": ".py",
   "mimetype": "text/x-python",
   "name": "python",
   "nbconvert_exporter": "python",
   "pygments_lexer": "ipython3",
   "version": "3.6.5"
  }
 },
 "nbformat": 4,
 "nbformat_minor": 2
}
