{
 "cells": [
  {
   "cell_type": "code",
   "execution_count": 3,
   "metadata": {},
   "outputs": [],
   "source": [
    "import numpy as np\n",
    "import pandas as pd\n",
    "from bs4 import BeautifulSoup\n",
    "import os\n",
    "from time import time\n"
   ]
  },
  {
   "cell_type": "markdown",
   "metadata": {},
   "source": [
    "# Feature Extraction"
   ]
  },
  {
   "cell_type": "code",
   "execution_count": 2,
   "metadata": {},
   "outputs": [],
   "source": [
    "folder_path = 'Desktop/data_output/'\n",
    "all_files = os.listdir(folder_path)\n",
    "thread_data_1 = pd.DataFrame()\n",
    "for file_name in all_files:\n",
    "    doc_df = pd.read_csv(folder_path+file_name, encoding=('iso-8859-1'))\n",
    "    thread_data_1 = thread_data_1.append(doc_df, ignore_index= True)"
   ]
  },
  {
   "cell_type": "code",
   "execution_count": 3,
   "metadata": {},
   "outputs": [
    {
     "name": "stderr",
     "output_type": "stream",
     "text": [
      "/usr/local/Cellar/python3/3.6.3/Frameworks/Python.framework/Versions/3.6/lib/python3.6/site-packages/nltk/twitter/__init__.py:20: UserWarning: The twython library has not been installed. Some functionality from the twitter package will not be available.\n",
      "  warnings.warn(\"The twython library has not been installed. \"\n"
     ]
    }
   ],
   "source": [
    "from nltk.sentiment.vader import SentimentIntensityAnalyzer\n",
    "sid = SentimentIntensityAnalyzer()\n",
    "\n",
    "for i in range(len(thread_data_1)):\n",
    "    # do counts\n",
    "    Message_soup = BeautifulSoup(thread_data_1['Message HTML'][i], 'html.parser')\n",
    "    thread_data_1.loc[i, 'img_count'] = len(Message_soup.find_all('img')) - len(Message_soup.find_all('img', class_='emoticon'))  # count image tags\n",
    "    thread_data_1.loc[i, 'p_count'] = len(Message_soup.find_all('p'))    # count p tags\n",
    "    thread_data_1.loc[i, 'word_count'] = len(Message_soup.get_text().split(' ')) # count words\n",
    "    \n",
    "    # get sentiment\n",
    "    Message_bodies = thread_data_1['Message Bodies'][i].replace(\"\\\\xa0\", \"\").replace(\"\\\\n\", \"\")\n",
    "    ss = sid.polarity_scores(Message_bodies)\n",
    "    \n",
    "    thread_data_1.loc[i, 'compound'] = ss['compound']\n",
    "    thread_data_1.loc[i, 'neg'] = ss['neg']\n",
    "    thread_data_1.loc[i, 'neu'] = ss['neu']\n",
    "    thread_data_1.loc[i, 'pos'] = ss['pos']\n",
    "    \n",
    "    thread_data_1.loc[i, 'user_count'] = len(thread_data_1['User List'][i].split(','))"
   ]
  },
  {
   "cell_type": "code",
   "execution_count": 26,
   "metadata": {},
   "outputs": [],
   "source": [
    "thread_data_1.to_csv('features.csv', encoding='utf-8')"
   ]
  },
  {
   "cell_type": "markdown",
   "metadata": {},
   "source": [
    "# Model Training"
   ]
  },
  {
   "cell_type": "code",
   "execution_count": 4,
   "metadata": {},
   "outputs": [],
   "source": [
    "from sklearn.ensemble import RandomForestClassifier\n",
    "from sklearn.neural_network import MLPClassifier\n",
    "from sklearn.svm import SVC\n",
    "\n",
    "from sklearn.preprocessing import StandardScaler\n",
    "from sklearn.metrics import accuracy_score\n",
    "from sklearn.metrics import precision_score\n",
    "from sklearn.metrics import recall_score\n",
    "\n",
    "def train(Xdata, ydata):\n",
    "    #Create 70-30 splits\n",
    "    X_train, X_test, y_train, y_test = train_test_split(Xdata, \n",
    "                                                    ydata, \n",
    "                                                    random_state=42, \n",
    "                                                    train_size=.7, \n",
    "                                                    test_size=.3)\n",
    "    \n",
    "    # transform scale of data\n",
    "    ss = StandardScaler()\n",
    "    X_train_scaled = ss.fit_transform(X_train)\n",
    "    X_test_scaled = ss.transform(X_test)\n",
    "    \n",
    "    # set up models\n",
    "    rf = RandomForestClassifier(random_state = 42, class_weight=\"balanced\")\n",
    "    svm = SVC(random_state = 42, class_weight=\"balanced\")\n",
    "    mlp = MLPClassifier(random_state = 42)\n",
    "\n",
    "    models = [('Random Forest', rf), \n",
    "          ('Support Vector Machine', svm),\n",
    "          ('Neural Networks', mlp)]\n",
    "\n",
    "    performance = {'Model': [], 'Accuracy': [], 'Precision': [], 'Recall': []}\n",
    "\n",
    "    for model_name, cur_model in models:\n",
    "        cur_model.fit(X_train_scaled, y_train)\n",
    "        y_predicted = cur_model.predict(X_test_scaled)\n",
    "        \n",
    "        accuracy = accuracy_score(y_predicted, y_test)\n",
    "        precision = precision_score(y_predicted, y_test)\n",
    "        recall = recall_score(y_predicted, y_test)\n",
    "        \n",
    "        performance['Model'].append(model_name)\n",
    "        performance['Accuracy'].append(accuracy)\n",
    "        performance['Precision'].append(precision)\n",
    "        performance['Recall'].append(recall)\n",
    "\n",
    "    return (performance)"
   ]
  },
  {
   "cell_type": "code",
   "execution_count": 4,
   "metadata": {},
   "outputs": [],
   "source": [
    "thread_df = pd.read_csv('features.csv', encoding='utf-8')"
   ]
  },
  {
   "cell_type": "code",
   "execution_count": 6,
   "metadata": {},
   "outputs": [],
   "source": [
    "from sklearn.metrics import accuracy_score\n",
    "from sklearn import metrics\n",
    "from sklearn.model_selection import train_test_split\n",
    "\n",
    "thread_X = thread_df.drop(columns=['Solution Count', 'Thread ID', 'Message List', 'User List', 'Message HTML', 'Post Times', 'Message Bodies'])\n",
    "thread_y = [0 if x==0 else 1 for x in thread_df['Solution Count']]  \n",
    "\n",
    "performance = train(thread_X, thread_y)\n",
    "df = pd.DataFrame(performance, index=performance['Model'], columns = ['Accuracy', 'Precision', 'Recall'])"
   ]
  },
  {
   "cell_type": "code",
   "execution_count": 7,
   "metadata": {
    "scrolled": true
   },
   "outputs": [
    {
     "data": {
      "text/html": [
       "<div>\n",
       "<style scoped>\n",
       "    .dataframe tbody tr th:only-of-type {\n",
       "        vertical-align: middle;\n",
       "    }\n",
       "\n",
       "    .dataframe tbody tr th {\n",
       "        vertical-align: top;\n",
       "    }\n",
       "\n",
       "    .dataframe thead th {\n",
       "        text-align: right;\n",
       "    }\n",
       "</style>\n",
       "<table border=\"1\" class=\"dataframe\">\n",
       "  <thead>\n",
       "    <tr style=\"text-align: right;\">\n",
       "      <th></th>\n",
       "      <th>Accuracy</th>\n",
       "      <th>Precision</th>\n",
       "      <th>Recall</th>\n",
       "    </tr>\n",
       "  </thead>\n",
       "  <tbody>\n",
       "    <tr>\n",
       "      <th>Random Forest</th>\n",
       "      <td>0.706667</td>\n",
       "      <td>0.391094</td>\n",
       "      <td>0.616794</td>\n",
       "    </tr>\n",
       "    <tr>\n",
       "      <th>Support Vector Machine</th>\n",
       "      <td>0.700000</td>\n",
       "      <td>0.584705</td>\n",
       "      <td>0.561860</td>\n",
       "    </tr>\n",
       "    <tr>\n",
       "      <th>Neural Networks</th>\n",
       "      <td>0.718667</td>\n",
       "      <td>0.515973</td>\n",
       "      <td>0.607754</td>\n",
       "    </tr>\n",
       "  </tbody>\n",
       "</table>\n",
       "</div>"
      ],
      "text/plain": [
       "                        Accuracy  Precision    Recall\n",
       "Random Forest           0.706667   0.391094  0.616794\n",
       "Support Vector Machine  0.700000   0.584705  0.561860\n",
       "Neural Networks         0.718667   0.515973  0.607754"
      ]
     },
     "execution_count": 7,
     "metadata": {},
     "output_type": "execute_result"
    }
   ],
   "source": [
    "df"
   ]
  },
  {
   "cell_type": "markdown",
   "metadata": {},
   "source": [
    "# Word based features"
   ]
  },
  {
   "cell_type": "code",
   "execution_count": 14,
   "metadata": {},
   "outputs": [],
   "source": [
    "from scipy.sparse import csr_matrix\n",
    "from scipy.sparse import hstack\n",
    "from collections import Counter\n",
    "from nltk.tokenize.moses import MosesTokenizer\n",
    "from nltk import word_tokenize\n",
    "from nltk import pos_tag\n",
    "from nltk.corpus import stopwords\n",
    "from nltk.stem import WordNetLemmatizer \n",
    "from sklearn.feature_extraction.text import TfidfVectorizer, CountVectorizer\n",
    "\n",
    "n_features = 2000\n",
    "mosesTokenizer = MosesTokenizer()\n",
    "stop_words = set(stopwords.words('english'))\n",
    "more_stop_words = [',','&quot;','(',')','/','&apos;t','&apos;re','&apos;s','&apos;ve','&gt;','+','~','-','*','\\\\',':','--', '\\'',\n",
    "                   '#','$','%','&amp;','&apos;','&apos;d','&apos;ll','&apos;m','..','...','....','\"']\n",
    "punct_stop_words = ['?','.']\n",
    "all_stop_words = stop_words.union(more_stop_words)\n",
    "all_stop_words_punct = all_stop_words.union(punct_stop_words)\n"
   ]
  },
  {
   "cell_type": "code",
   "execution_count": 16,
   "metadata": {},
   "outputs": [],
   "source": [
    "class LemmaTokenizer(object):\n",
    "     def __init__(self):\n",
    "         self.wnl = WordNetLemmatizer()\n",
    "     def __call__(self, doc):\n",
    "        #Part-Of-Speech Tagged and Word Tokenized \n",
    "        tagged = pos_tag((word_tokenize(doc)))\n",
    "        lems = []\n",
    "\n",
    "        #For each tagged word, lemmatize the nouns, verbs, and adjectives\n",
    "        for w,t in tagged:\n",
    "\n",
    "            ## { Part-of-speech constants\n",
    "            ## ADJ, ADJ_SAT, ADV, NOUN, VERB = 'a', 's', 'r', 'n', 'v'\n",
    "            ## }\n",
    "\n",
    "            #temporay variable to potentially change the word\n",
    "            l = w \n",
    "            #noun\n",
    "            if(t[0] == 'N'):\n",
    "                l = self.wnl.lemmatize(w, 'n')\n",
    "            #verb\n",
    "            elif(t[0] == 'V'):\n",
    "                l = self.wnl.lemmatize(w, 'v')\n",
    "            #adjective    \n",
    "            elif(t[0] == 'J'):\n",
    "                l = self.wnl.lemmatize(w, 'a')\n",
    "    \n",
    "            lems.append(l)    \n",
    "            # if(l != w):\n",
    "            #     print('{} {} {}'.format(w,t,l))\n",
    "\n",
    "        #return list of lemmed words\n",
    "        return lems"
   ]
  },
  {
   "cell_type": "code",
   "execution_count": 17,
   "metadata": {},
   "outputs": [
    {
     "name": "stdout",
     "output_type": "stream",
     "text": [
      "Extracting tf-idf features...\n",
      "done in 634.709s.\n",
      "['!', '! !', '! ! !', \"! ''\", \"! '' ]\", '! \\\\n\\\\xa0', '! \\\\n\\\\xa0\\\\ni', '! \\\\ni', '! \\\\xa0', '! ]', '! ``', '! `` ``', '&', \"''\", \"'' ''\", \"'' 'hello\", \"'' 'hi\", \"'' 'i\", \"'' .\\\\xa0\", \"'' >\", \"'' \\\\xa0\", \"'' ]\", \"'' ``\", \"'' `` hi\", \"'' button\", \"'' function\", \"'' labview\", \"'' mean\", \"'' use\", \"'' vi\", \"'can\", \"'d\", \"'d like\", \"'dear\", \"'hello\", \"'hello \\\\n\\\\xa0\\\\ni\", \"'here\", \"'hey\", \"'hi\", \"'hi \\\\n\\\\xa0\\\\ni\", \"'hi \\\\ni\", \"'how\", \"'i\", \"'i think\", \"'i try\", \"'i use\", \"'i\\\\\", \"'i\\\\ 'm\", \"'if\", \"'in\", \"'is\", \"'it\", \"'ll\", \"'ll need\", \"'ll try\", \"'m\", \"'m go\", \"'m look\", \"'m sure\", \"'m try\", \"'m use\", \"'ok\", \"'re\", \"'s\", \"'so\", \"'sorry\", \"'thank\", \"'thanks\", \"'that\", \"'the\", \"'there\", \"'this\", \"'ve\", \"'ve attach\", \"'ve get\", \"'ve see\", \"'ve try\", \"'ve use\", \"'well\", \"'what\", \"'yes\", \"'you\", '-1', '.\\\\n\\\\xa0\\\\nbob', '.\\\\n\\\\xa0\\\\nbob schor', '.\\\\n\\\\xa0\\\\ni', '.\\\\ni', '.\\\\xa0', '.exe', '.net', '.vi', '//', '0', '1', '1 2', '10', '100', '1000', '12', '15', '16', '1d', '1d array', '1st', '2', '20', '200', '2010', '2011', '2012', '2013', '2014', '2015', '2016', '2017', '24', '2d', '2d array', '2nd', '3', '30', '32', '32 bit', '32-bit', '32bit', '3d', '3rd', '4', '40', '5', '50', '500', '6', '64', '64 bit', '64-bit', '64bit', '7', '8', '9', ';', '; \\\\n', '<', '< <', '< < <', '< unknown', '< unknown >', '=', '>', '> <', '> >', '> > >', '@', \"[ 'hello\", \"[ 'hi\", \"[ 'i\", '[ ]', '[ ``', '[ `` hello', '[ `` hi', '\\\\\\\\', '\\\\\\\\program', '\\\\n', \"\\\\n ''\", '\\\\n ``', '\\\\n }', '\\\\n-', '\\\\n1', '\\\\n2', '\\\\n\\\\n', '\\\\n\\\\ni', '\\\\n\\\\xa0', \"\\\\n\\\\xa0 ''\", '\\\\n\\\\xa0\\\\n', \"\\\\n\\\\xa0\\\\n ''\", '\\\\n\\\\xa0\\\\n1', '\\\\n\\\\xa0\\\\n\\\\xa0', '\\\\n\\\\xa0\\\\nas', '\\\\n\\\\xa0\\\\nbest', '\\\\n\\\\xa0\\\\nbob', '\\\\n\\\\xa0\\\\nbob schor', '\\\\n\\\\xa0\\\\ncan', '\\\\n\\\\xa0\\\\nhow', '\\\\n\\\\xa0\\\\nhttp', '\\\\n\\\\xa0\\\\ni', \"\\\\n\\\\xa0\\\\ni 'm\", '\\\\n\\\\xa0\\\\ni try', '\\\\n\\\\xa0\\\\ni\\\\', '\\\\n\\\\xa0\\\\nif', '\\\\n\\\\xa0\\\\nin', '\\\\n\\\\xa0\\\\nis', '\\\\n\\\\xa0\\\\nit', '\\\\n\\\\xa0\\\\nplease', '\\\\n\\\\xa0\\\\nregards', '\\\\n\\\\xa0\\\\nso', '\\\\n\\\\xa0\\\\nthank', '\\\\n\\\\xa0\\\\nthanks', '\\\\n\\\\xa0\\\\nthe', '\\\\n\\\\xa0\\\\nthis', '\\\\n\\\\xa0\\\\nwhat', '\\\\n\\\\xa0\\\\nwhen', '\\\\n\\\\xa0\\\\nyou', '\\\\nand', '\\\\ncan', '\\\\nhi', '\\\\nhow', '\\\\nhttp', '\\\\nhttps', '\\\\ni', \"\\\\ni 'm\", '\\\\ni try', '\\\\nif', '\\\\nin', '\\\\nis', '\\\\nit', '\\\\nso', '\\\\nthank', '\\\\nthanks', '\\\\nthe', '\\\\nthis', '\\\\nwhat', '\\\\nwhen', '\\\\nwhy', '\\\\nyou', '\\\\xa0', \"\\\\xa0 ''\", '\\\\xa0 \\\\xa0', '\\\\xa0 \\\\xa0 \\\\xa0', '\\\\xa0 ``', '\\\\xa0\\\\n\\\\xa0\\\\ni', '\\\\xa0\\\\ni', '\\\\xa0\\\\xa0', '\\\\xa0and', '\\\\xa0but', '\\\\xa0http', '\\\\xa0i', '\\\\xa0i\\\\', '\\\\xa0if', '\\\\xa0in', '\\\\xa0is', '\\\\xa0it', '\\\\xa0so', '\\\\xa0thanks', '\\\\xa0that', '\\\\xa0the', '\\\\xa0there', '\\\\xa0this', '\\\\xa0what', '\\\\xa0when', '\\\\xa0you', '``', \"`` ''\", \"`` 'hello\", \"`` 'hi\", \"`` 'i\", \"`` 'm\", \"`` 's\", \"`` 've\", '`` @', '`` ``', '`` `` hi', '`` data', '`` error', '`` get', '`` hello', '`` hey', '`` hi', '`` hi \\\\n\\\\xa0\\\\ni', '`` labview', \"`` n't\", '`` read', '`` thank', '`` thanks', '`` try', '`` use', '`` write', '`` yes', 'ability', 'able', 'able find', 'able get', 'able use', 'abort', 'absolute', 'absolutely', 'accelerometer', 'accept', 'access', 'accomplish', 'accord', 'account', 'accurate', 'achieve', 'acquire', 'acquire data', 'acquisition', 'across', 'act', 'action', 'activate', 'active', 'activex', 'actor', 'actual', 'actually', 'adapter', 'add', 'addition', 'additional', 'address', 'adjust', 'advance', 'advanced', 'advice', 'advise', 'affect', 'agilent', 'ago', 'agree', 'ai', 'algorithm', 'allocate', 'allow', 'almost', 'along', 'already', 'also', 'also need', 'also try', 'also use', 'altenbach', 'alternative', 'although', 'always', 'amount', 'amplitude', 'analog', 'analog input', 'analog output', 'analysis', 'analyze', 'and/or', 'angle', 'another', 'answer', 'answer question', 'anybody', 'anymore', 'anyone', 'anyone help', 'anyone know', 'anything', 'anyway', 'anywhere', 'ao', 'api', 'app', 'apparently', 'appear', 'append', 'application', 'apply', 'appreciate', 'approach', 'appropriate', 'architecture', 'arduino', 'area', 'around', 'array', \"array ''\", 'array cluster', 'array size', 'array string', 'array use', 'arrow', 'article', 'ascii', 'ask', 'assembly', 'assign', 'assistant', 'associate', 'assume', 'asynchronous', 'attach', 'attach code', 'attach vi', 'attached', 'attached vi', 'attachment', 'attempt', 'attribute', 'audio', 'auto', 'automatically', 'available', 'average', 'avi', 'avoid', 'aware', 'away', 'axis', 'b', 'back', 'background', 'bad', 'bar', 'base', 'basic', 'basically', 'baud', 'become', 'begin', 'beginner', 'beginning', 'behave', 'behavior', 'behaviour', 'behind', 'believe', 'ben', 'best', 'best way', 'better', 'big', 'binary', 'bit', 'black', 'blank', 'block', 'block diagram', 'blue', 'board', 'bob', 'boolean', 'booleans', 'bottom', 'box', 'break', 'bring', 'broken', 'browse', 'browser', 'buffer', 'bug', 'build', 'build array', 'builder', 'bunch', 'bundle', 'bus', 'button', 'button press', 'buy', 'byte', 'byte port', 'c', 'c++', 'ca', \"ca n't\", \"ca n't find\", 'cable', 'calculate', 'calculation', 'calibration', 'call', 'call ``', 'call library', 'call library function', 'call vi', 'callback', 'caller', 'camera', \"can\\\\'t\", 'cant', 'capture', 'car', 'card', 'care', 'case', 'case structure', 'cast', 'catch', 'cause', 'cdaq', 'cell', 'certain', 'certainly', 'chance', 'change', 'channel', 'char', 'character', 'chart', 'chassis', 'check', 'child', 'choice', 'choose', 'circuit', 'clarify', 'class', 'clean', 'clear', 'clearly', 'click', 'client', 'clock', 'clone', 'close', 'cluster', 'cod', 'code', 'code ``', 'code run', 'code use', 'code work', 'code.\\\\xa0', 'collect', 'collect data', 'color', 'column', 'com', 'com port', 'combination', 'combine', 'come', 'comma', 'command', 'command line', 'comment', 'common', 'communicate', 'communication', 'community', 'company', 'compare', 'comparison', 'compatible', 'compile', 'compiler', 'complete', 'completely', 'complex', 'complicate', 'component', 'computer', 'concept', 'concern', 'condition', 'conditional', 'config', 'configuration', 'configure', 'confirm', 'conflict', 'confuse', 'connect', 'connection', 'connector', 'consider', 'consist', 'constant', 'consumer', 'consumer loop', 'contact', 'contain', 'container', 'content', 'context', 'continue', 'continuous', 'continuously', 'control', 'controller', 'conversion', 'convert', 'converter', 'coordinate', 'copy', 'core', 'correct', 'correctly', 'correspond', 'corrupt', 'could', 'could also', 'could find', 'could help', \"could n't\", 'could use', 'count', 'counter', 'couple', 'course', 'cpu', 'crash', 'create', 'create new', 'create vi', 'crio', 'crossrulz', 'csv', 'csv file', 'curious', 'current', 'currently', 'cursor', 'curve', 'custom', 'customer', 'cut', 'cycle', 'daq', 'daq assistant', 'daqmx', 'data', \"data ''\", 'data ``', 'data acquisition', 'data come', 'data file', 'data flow', 'data point', 'data type', 'data use', 'data.\\\\xa0', 'database', 'dataflow', 'datatype', 'date', 'day', 'db', 'dbl', 'dc', 'de', 'deal', 'debug', 'decide', 'decimal', 'default', 'default value', 'define', 'definitely', 'definition', 'degree', 'delay', 'delete', 'depend', 'dependency', 'deploy', 'dequeue', 'describe', 'description', 'design', 'desire', 'desired', 'desktop', 'detail', 'detailed', 'detect', 'determine', 'develop', 'developer', 'development', 'device', 'diagram', 'dialog', \"didn\\\\'t\", 'difference', 'different', 'difficult', 'digit', 'digital', 'direct', 'direction', 'directly', 'directory', 'disable', 'disconnect', 'discover', 'discuss', 'discussion', 'disk', 'display', 'distance', 'distribution', 'divide', 'dll', 'dlls', 'dma', 'document', 'documentation', \"doesn\\\\'t\", \"don\\\\'t\", \"don\\\\'t know\", \"don\\\\'t need\", 'dont', 'dont know', 'dot', 'double', 'doubt', 'download', 'drag', 'draw', 'drive', 'driver', 'drop', 'dsc', 'dt', 'due', 'duplicate', 'dvr', 'dynamic', 'dynamic data', 'dynamically', 'e.g', 'earlier', 'early', 'easily', 'easy', 'easy way', 'edge', 'edit', 'editor', 'effect', 'efficient', 'effort', 'either', 'elapsed', 'elapsed time', 'element', 'element array', 'eliminate', 'else', 'email', 'embed', 'empty', 'enable', 'encoder', 'encounter', 'end', 'engine', 'engineer', 'english', 'enough', 'ensure', 'enter', 'entire', 'entry', 'enum', 'environment', 'equal', 'equation', 'error', 'error ``', 'error code', 'error message', 'error occur', 'especially', 'essentially', 'etc', 'ethernet', 'even', 'even though', 'event', 'event case', 'event structure', 'eventually', 'ever', 'every', 'every time', 'everyone', 'everything', 'exact', 'exactly', 'example', 'example use', 'example vi', 'excel', 'excel file', 'except', 'exception', 'exchange', 'exe', 'executable', 'execute', 'execution', 'exist', 'exit', 'expand', 'expect', 'experience', 'experiment', 'explain', 'explanation', 'explicitly', 'explorer', 'export', 'express', 'express vi', 'extension', 'external', 'extra', 'extract', 'f', 'face', 'fact', 'factor', 'fail', 'fairly', 'fall', 'false', 'familiar', 'far', 'fast', 'faster', 'feature', 'fee', 'feed', 'feedback', 'feedback node', 'feel', 'fft', 'fgv', 'field', 'fifo', 'figure', 'file', \"file ''\", 'file ``', 'file name', 'file path', 'file use', 'file x86', 'fill', 'filter', 'final', 'finally', 'find', 'find example', 'find solution', 'find way', 'fine', 'finish', 'finite', 'fire', 'firewall', 'firmware', 'first', 'first time', 'fit', 'fix', 'fixed', 'flag', 'flat', 'flat sequence', 'flatten', 'float', 'flow', 'focus', 'folder', 'follow', 'following', 'font', 'force', 'forget', 'form', 'format', 'formula', 'forum', 'forward', 'four', 'fp', 'fpga', 'fpga vi', 'frame', 'framework', 'free', 'frequency', 'front', 'front panel', 'full', 'fully', 'function', 'function use', 'functionality', 'future', 'gain', 'general', 'generally', 'generate', 'generation', 'generator', 'generic', 'gerdw', 'get', 'get ``', 'get data', 'get error', 'get rid', 'get start', 'get work', 'give', 'give error', 'global', 'global variable', 'go', 'go back', 'goal', 'good', 'good idea', 'good way', 'google', 'gpib', 'grab', 'graph', 'great', 'greatly', 'green', 'group', 'grow', 'guarantee', 'guess', 'gui', 'guide', 'guy', 'half', 'hand', 'handle', 'handler', 'hang', 'happen', 'happy', 'hard', 'hardware', \"haven\\\\'t\", 'head', 'header', 'hear', 'hello', 'help', 'help !', 'help ``', 'help would', 'helpful', 'hence', 'hex', 'hey', 'hi', 'hi \\\\n\\\\xa0\\\\ni', 'hide', 'hierarchy', 'high', 'highlight', 'highlight read', 'highly', 'hint', 'history', 'hit', 'hold', 'home', 'hop', 'hope', 'hopefully', 'host', 'hour', 'however', 'http', 'huge', 'hz', 'i.e', 'i/o', 'i2c', 'i\\\\', \"i\\\\ 'd\", \"i\\\\ 'll\", \"i\\\\ 'm\", \"i\\\\ 'm sure\", \"i\\\\ 've\", 'icon', 'id', 'idea', 'identical', 'identify', 'ignore', 'im', 'image', 'imagine', 'imaq', 'immediately', 'implement', 'implementation', 'import', 'important', 'improve', 'include', 'increase', 'increment', 'indeed', 'independent', 'index', 'index array', 'indicate', 'indicator', 'individual', 'info', 'information', 'ini', 'init', 'initial', 'initialize', 'inner', 'input', 'input output', 'insert', 'inside', 'inside loop', 'instal', 'instal labview', 'install', 'installation', 'installer', 'instance', 'instead', 'instruction', 'instrument', 'instrument driver', 'int', 'integer', 'integrate', 'intend', 'intensity', 'interest', 'interested', 'interesting', 'interface', 'internal', 'internet', 'interval', 'introduce', 'invalid', 'invoke', 'invoke node', 'involve', 'io', 'ip', 'ip address', \"isn\\\\'t\", 'issue', 'it.\\\\xa0', 'it\\\\', \"it\\\\ 's\", 'item', 'iterate', 'iteration', 'jens', 'job', 'jump', 'keep', 'keithley', 'key', 'keyboard', 'khz', 'kind', 'know', 'knowledge', 'lab', 'label', 'labview', 'labview 2014', 'labview 2015', 'labview 2016', 'labview 2017', 'labview ``', 'labview code', 'labview help', 'labview program', 'labview project', 'labview use', 'labview version', 'labview vi', 'labview.\\\\xa0', 'language', 'laptop', 'large', 'last', 'late', 'later', 'launch', 'lead', 'learn', 'least', 'leave', 'led', 'left', 'length', 'less', 'let', 'let know', 'level', 'library', 'library function', 'library node', 'license', 'light', 'like', 'like ``', 'like use', 'likely', 'limit', 'limitation', 'line', 'linear', 'link', 'linux', 'linx', 'list', 'listbox', 'little', 'little bit', 'live', 'load', 'local', 'local variable', 'locate', 'location', 'lock', 'log', 'logic', 'long', 'long time', 'longer', 'look', 'look like', 'loop', 'loop ``', 'loop run', 'loop use', 'loop.\\\\xa0', 'lose', 'lot', 'low', 'luck', 'lv', 'lvrt', 'lvrt <', 'lvrt < unknown', 'mac', 'machine', 'main', 'main vi', 'maintain', 'make', 'make sense', 'make sure', 'make work', 'manage', 'manager', 'manual', 'manually', 'manufacturer', 'many', 'map', 'mark', 'master', 'match', 'math', 'matlab', 'matrix', 'matter', 'max', 'maximum', 'may', 'maybe', 'mean', 'mean ``', 'measure', 'measurement', 'memory', 'mention', 'menu', 'merge', 'mess', 'message', 'meter', 'method', 'microsoft', 'middle', 'might', 'might want', 'millisecond', 'min', 'mind', 'mine', 'minimum', 'minute', 'miss', 'mistake', 'modbus', 'mode', 'model', 'modify', 'module', 'moment', 'monitor', 'month', 'mostly', 'motion', 'motor', 'mouse', 'move', 'msec', 'much', 'much !', 'multiple', 'multiply', 'must', 'myrio', 'n', \"n't\", \"n't find\", \"n't get\", \"n't know\", \"n't need\", \"n't really\", \"n't see\", \"n't seem\", \"n't think\", \"n't understand\", \"n't use\", \"n't want\", \"n't work\", 'name', 'name ``', 'name=', \"name= ''\", 'national', 'national instrument', 'native', 'near', 'necessary', 'need', 'need ``', 'need change', 'need get', 'need help', 'need know', 'need make', 'need use', 'negative', 'network', 'network stream', 'never', 'never use', 'new', 'new labview', 'new version', 'next', 'ni', 'ni max', 'ni-daqmx', 'nice', 'node', 'noise', 'none', 'normal', 'normally', 'note', 'nothing', 'notice', 'notifier', 'null', 'number', 'number sample', 'numeric', 'nxg', 'object', 'obtain', 'obvious', 'obviously', 'occur', 'odd', 'offer', 'office', 'offset', 'often', 'ok', 'old', 'old version', 'one', 'one time', 'online', 'onto', 'op', 'opc', 'open', 'open file', 'open vi', 'operate', 'operation', 'opinion', 'option', 'order', 'original', 'os', 'oscilloscope', 'others', 'otherwise', 'output', 'outside', 'outside loop', 'overlay', 'overwrite', 'p', 'package', 'packet', 'page', 'pair', 'palette', 'pane', 'panel', 'paper', 'parallel', 'parameter', 'parent', 'parse', 'part', 'particular', 'party', 'pas', 'pass', 'password', 'past', 'paste', 'patch', 'path', 'pattern', 'pause', 'pay', 'pc', 'pdf', 'peak', 'people', 'per', 'perfect', 'perfectly', 'perform', 'performance', 'perhaps', 'period', 'person', 'phase', 'physical', 'pick', 'picture', 'pid', 'piece', 'pin', 'pixel', 'place', 'plan', 'platform', 'play', 'plc', 'please', 'please help', 'plot', 'plug', 'plus', 'png', 'point', 'pointer', 'pop', 'port', 'portion', 'position', 'possibility', 'possible', 'possibly', 'post', 'post code', 'power', 'power supply', 'ppl', 'practice', 'precision', 'prefer', 'present', 'press', 'pressure', 'pretty', 'prevent', 'previous', 'previously', 'print', 'printer', 'priority', 'private', 'probably', 'probe', 'problem', 'problem ``', 'procedure', 'process', 'processing', 'produce', 'producer', 'producer/consumer', 'product', 'profile', 'program', 'program run', 'programmatically', 'programmer', 'programming', 'progress', 'project', 'prompt', 'proper', 'properly', 'property', 'property node', 'protocol', 'provide', 'pull', 'pulse', 'pump', 'purpose', 'push', 'put', 'pwm', 'pxi', 'python', 'query', 'question', 'queue', 'quick', 'quickly', 'quite', 'r', 'race', 'race condition', 'ramp', 'random', 'range', 'rate', 'rather', 'raw', 'reach', 'read', 'read data', 'read write', 'read/write', 'reader', 'reading', 'ready', 'real', 'real time', 'real-time', 'realize', 'really', 'really need', 'reason', 'reasonable', 'reboot', 'recall', 'receive', 'receiver', 'recent', 'recently', 'recognize', 'recommend', 'record', 'red', 'reduce', 'reentrant', 'ref', 'refer', 'reference', 'refnum', 'regard', 'register', 'regular', 'reinstall', 'relate', 'relative', 'relatively', 'relay', 'release', 'relevant', 'remain', 'remember', 'remote', 'remove', 'rename', 'repair', 'repeat', 'replace', 'reply', 'report', 'report generation', 'represent', 'representation', 'reproduce', 'request', 'require', 'required', 'requirement', 'research', 'reset', 'resize', 'resolution', 'resolve', 'resource', 'respond', 'response', 'rest', 'restart', 'result', 'retrieve', 'return', 'reverse', 'rid', 'right', 'right click', 'right-click', 'ring', 'rio', 'round', 'routine', 'row', 'rs232', 'rt', 'rule', 'run', 'run code', 'run labview', 'run program', 'run time', 'run vi', 'run-time', 'running', 'runtime', 'safe', 'sample', 'sample clock', 'sample rate', 'sampling', 'save', 'save data', 'saw', 'say', 'say ``', 'scale', 'scan', 'schor', \"schor ''\", 'schor ``', 'scope', 'screen', 'screenshot', 'screenshots', 'script', 'scroll', 'search', 'sec', 'second', 'section', 'see', 'see ``', 'seem', 'seem like', 'seem work', 'select', 'select ``', 'selection', 'send', 'send command', 'send data', 'sense', 'sensor', 'separate', 'sequence', 'sequence structure', 'serial', 'serial port', 'series', 'server', 'service', 'session', 'set', 'set ``', 'setting', 'setup', 'several', 'share', 'share variable', 'sheet', 'shift', 'shift register', 'short', 'shot', 'show', 'side', 'sign', 'signal', 'similar', 'simple', 'simplify', 'simply', 'simulate', 'simulation', 'simultaneously', 'since', 'sine', 'sine wave', 'single', 'site', 'situation', 'size', 'slave', 'slider', 'slightly', 'slow', 'small', 'smart', 'snippet', 'software', 'solution', 'solve', 'solve problem', 'somebody', 'somehow', 'someone', 'someone help', 'something', 'something else', 'something like', 'sometimes', 'somewhat', 'somewhere', 'soon', 'sorry', 'sort', 'sound', 'sound like', 'source', 'source code', 'sp1', 'space', 'spec', 'special', 'specific', 'specifically', 'specification', 'specify', 'spectrum', 'speed', 'spend', 'spi', 'split', 'spreadsheet', 'sql', 'square', 'stack', 'stage', 'stamp', 'standard', 'start', 'startup', 'state', 'state machine', 'statement', 'static', 'station', 'status', 'stay', 'step', 'stepper', 'stick', 'still', 'still get', 'stop', 'stop button', 'store', 'straight', 'strain', 'strange', 'stream', 'string', \"string ''\", 'string array', 'structure', 'student', 'stuff', 'style', 'sub', 'sub vi', 'sub-vi', 'subpanel', 'subset', 'subtract', 'subvi', 'subvis', 'success', 'successfully', 'suggest', 'suggestion', 'sum', 'supply', 'support', 'suppose', 'sure', 'suspect', 'switch', 'symbol', 'sync', 'synchronize', 'system', 'tab', 'tab control', 'table', 'tag', 'take', 'take look', 'take time', 'talk', 'target', 'task', 'tcp', 'tcp/ip', 'tdms', 'tdms file', 'tell', 'temp', 'temperature', 'template', 'term', 'terminal', 'termination', 'termination character', 'test', 'teststand', 'text', 'text file', 'thank', 'thank much', 'thanks', 'thanks !', 'that\\\\', \"that\\\\ 's\", 'there\\\\', \"there\\\\ 's\", 'therefore', 'thermocouple', 'thing', 'think', 'think would', 'third', 'though', 'thought', 'thread', 'three', 'threshold', 'throw', 'thus', 'tick', 'time', \"time ''\", 'time ``', 'time loop', 'time stamp', 'time.\\\\xa0', 'timed', 'timed loop', 'timeout', 'timer', 'timestamp', 'timing', 'tip', 'title', 'today', 'together', 'tool', 'toolkit', 'top', 'top level', 'topic', 'total', 'trace', 'track', 'train', 'training', 'transfer', 'transmit', 'tree', 'trial', 'trick', 'trigger', 'trouble', 'troubleshoot', 'true', 'try', 'try create', 'try find', 'try get', 'try make', 'try open', 'try read', 'try run', 'try use', 'tunnel', 'turn', 'tutorial', 'twice', 'two', 'two different', 'type', 'typedef', 'typical', 'typically', 'u', 'u32', 'u8', 'udp', 'ui', 'unable', 'unbundle', 'understand', 'understanding', 'unfortunately', 'unicode', 'uninstall', 'unique', 'unit', 'unknown', 'unknown >', 'unless', 'unsigned', 'update', 'upgrade', 'upload', 'upon', 'upper', 'url', 'us', 'usage', 'usb', 'use', 'use ``', 'use array', 'use case', 'use daqmx', 'use different', 'use event', 'use labview', 'use loop', 'use ni', 'use one', 'use property', 'use property node', 'use shift', 'use shift register', 'use two', 'use vi', 'use visa', 'useful', 'user', 'user event', 'usrp', 'usually', 'utility', 'v', 'valid', 'value', 'value ``', 'value change', 'valve', 'variable', 'variant', 'various', 'vary', 'vector', 'verify', 'version', 'version labview', 'vi', \"vi ''\", \"vi 's\", 'vi ``', 'vi attach', 'vi call', 'vi reference', 'vi run', 'vi use', 'vi work', 'vi.\\\\xa0', 'vi\\\\', \"vi\\\\ 's\", 'via', 'video', 'view', 'vipm', 'virtual', 'vis', 'visa', 'visa read', 'visible', 'vision', 'visual', 'voltage', 'wait', 'want', 'want know', 'want make', 'want read', 'want use', 'warning', 'watch', 'wave', 'waveform', 'waveform chart', 'waveform graph', 'way', 'way get', 'web', 'web service', 'website', 'week', 'weird', 'well', 'whatever', 'whenever', 'whether', 'white', 'whole', 'width', 'window', 'window 10', 'window 7', 'windows', 'wire', 'wish', 'within', 'without', 'wo', \"wo n't\", \"won\\\\'t\", 'wonder', 'word', 'work', 'work !', 'work ``', 'work fine', 'work labview', 'work well', 'workaround', 'working', 'worry', 'worth', 'would', 'would also', 'would appreciate', 'would help', 'would like', \"would n't\", 'would need', 'would recommend', 'would use', 'would work', 'wrap', 'wrapper', 'write', 'write \\\\n', 'write \\\\nhi', 'write \\\\ni', 'write data', 'write file', 'wrong', 'x', 'x86', 'xml', 'xp', 'xy', 'xy graph', 'year', 'year ago', 'yes', 'yet', 'you\\\\', \"you\\\\ 'll\", \"you\\\\ 're\", \"you\\\\ 've\", 'z', 'zero', 'zip', '{', '}']\n",
      "Extracting tf features...\n"
     ]
    },
    {
     "name": "stdout",
     "output_type": "stream",
     "text": [
      "done in 622.190s.\n",
      "['!', '! !', '! ! !', \"! ''\", \"! '' ]\", '! \\\\n\\\\xa0', '! \\\\n\\\\xa0\\\\ni', '! \\\\ni', '! \\\\xa0', '! ]', '! ``', '! `` ``', '&', \"''\", \"'' ''\", \"'' 'hello\", \"'' 'hi\", \"'' 'i\", \"'' .\\\\xa0\", \"'' >\", \"'' \\\\xa0\", \"'' ]\", \"'' ``\", \"'' `` hi\", \"'' button\", \"'' function\", \"'' labview\", \"'' mean\", \"'' use\", \"'' vi\", \"'can\", \"'d\", \"'d like\", \"'dear\", \"'hello\", \"'hello \\\\n\\\\xa0\\\\ni\", \"'here\", \"'hey\", \"'hi\", \"'hi \\\\n\\\\xa0\\\\ni\", \"'hi \\\\ni\", \"'how\", \"'i\", \"'i think\", \"'i try\", \"'i use\", \"'i\\\\\", \"'i\\\\ 'm\", \"'if\", \"'in\", \"'is\", \"'it\", \"'ll\", \"'ll need\", \"'ll try\", \"'m\", \"'m go\", \"'m look\", \"'m sure\", \"'m try\", \"'m use\", \"'ok\", \"'re\", \"'s\", \"'so\", \"'sorry\", \"'thank\", \"'thanks\", \"'that\", \"'the\", \"'there\", \"'this\", \"'ve\", \"'ve attach\", \"'ve get\", \"'ve see\", \"'ve try\", \"'ve use\", \"'well\", \"'what\", \"'yes\", \"'you\", '-1', '.\\\\n\\\\xa0\\\\nbob', '.\\\\n\\\\xa0\\\\nbob schor', '.\\\\n\\\\xa0\\\\ni', '.\\\\ni', '.\\\\xa0', '.exe', '.net', '.vi', '//', '0', '1', '1 2', '10', '100', '1000', '12', '15', '16', '1d', '1d array', '1st', '2', '20', '200', '2010', '2011', '2012', '2013', '2014', '2015', '2016', '2017', '24', '2d', '2d array', '2nd', '3', '30', '32', '32 bit', '32-bit', '32bit', '3d', '3rd', '4', '40', '5', '50', '500', '6', '64', '64 bit', '64-bit', '64bit', '7', '8', '9', ';', '; \\\\n', '<', '< <', '< < <', '< unknown', '< unknown >', '=', '>', '> <', '> >', '> > >', '@', \"[ 'hello\", \"[ 'hi\", \"[ 'i\", '[ ]', '[ ``', '[ `` hello', '[ `` hi', '\\\\\\\\', '\\\\\\\\program', '\\\\n', \"\\\\n ''\", '\\\\n ``', '\\\\n }', '\\\\n-', '\\\\n1', '\\\\n2', '\\\\n\\\\n', '\\\\n\\\\ni', '\\\\n\\\\xa0', \"\\\\n\\\\xa0 ''\", '\\\\n\\\\xa0\\\\n', \"\\\\n\\\\xa0\\\\n ''\", '\\\\n\\\\xa0\\\\n1', '\\\\n\\\\xa0\\\\n\\\\xa0', '\\\\n\\\\xa0\\\\nas', '\\\\n\\\\xa0\\\\nbest', '\\\\n\\\\xa0\\\\nbob', '\\\\n\\\\xa0\\\\nbob schor', '\\\\n\\\\xa0\\\\ncan', '\\\\n\\\\xa0\\\\nhow', '\\\\n\\\\xa0\\\\nhttp', '\\\\n\\\\xa0\\\\ni', \"\\\\n\\\\xa0\\\\ni 'm\", '\\\\n\\\\xa0\\\\ni try', '\\\\n\\\\xa0\\\\ni\\\\', '\\\\n\\\\xa0\\\\nif', '\\\\n\\\\xa0\\\\nin', '\\\\n\\\\xa0\\\\nis', '\\\\n\\\\xa0\\\\nit', '\\\\n\\\\xa0\\\\nplease', '\\\\n\\\\xa0\\\\nregards', '\\\\n\\\\xa0\\\\nso', '\\\\n\\\\xa0\\\\nthank', '\\\\n\\\\xa0\\\\nthanks', '\\\\n\\\\xa0\\\\nthe', '\\\\n\\\\xa0\\\\nthis', '\\\\n\\\\xa0\\\\nwhat', '\\\\n\\\\xa0\\\\nwhen', '\\\\n\\\\xa0\\\\nyou', '\\\\nand', '\\\\ncan', '\\\\nhi', '\\\\nhow', '\\\\nhttp', '\\\\nhttps', '\\\\ni', \"\\\\ni 'm\", '\\\\ni try', '\\\\nif', '\\\\nin', '\\\\nis', '\\\\nit', '\\\\nso', '\\\\nthank', '\\\\nthanks', '\\\\nthe', '\\\\nthis', '\\\\nwhat', '\\\\nwhen', '\\\\nwhy', '\\\\nyou', '\\\\xa0', \"\\\\xa0 ''\", '\\\\xa0 \\\\xa0', '\\\\xa0 \\\\xa0 \\\\xa0', '\\\\xa0 ``', '\\\\xa0\\\\n\\\\xa0\\\\ni', '\\\\xa0\\\\ni', '\\\\xa0\\\\xa0', '\\\\xa0and', '\\\\xa0but', '\\\\xa0http', '\\\\xa0i', '\\\\xa0i\\\\', '\\\\xa0if', '\\\\xa0in', '\\\\xa0is', '\\\\xa0it', '\\\\xa0so', '\\\\xa0thanks', '\\\\xa0that', '\\\\xa0the', '\\\\xa0there', '\\\\xa0this', '\\\\xa0what', '\\\\xa0when', '\\\\xa0you', '``', \"`` ''\", \"`` 'hello\", \"`` 'hi\", \"`` 'i\", \"`` 'm\", \"`` 's\", \"`` 've\", '`` @', '`` ``', '`` `` hi', '`` data', '`` error', '`` get', '`` hello', '`` hey', '`` hi', '`` hi \\\\n\\\\xa0\\\\ni', '`` labview', \"`` n't\", '`` read', '`` thank', '`` thanks', '`` try', '`` use', '`` write', '`` yes', 'ability', 'able', 'able find', 'able get', 'able use', 'abort', 'absolute', 'absolutely', 'accelerometer', 'accept', 'access', 'accomplish', 'accord', 'account', 'accurate', 'achieve', 'acquire', 'acquire data', 'acquisition', 'across', 'act', 'action', 'activate', 'active', 'activex', 'actor', 'actual', 'actually', 'adapter', 'add', 'addition', 'additional', 'address', 'adjust', 'advance', 'advanced', 'advice', 'advise', 'affect', 'agilent', 'ago', 'agree', 'ai', 'algorithm', 'allocate', 'allow', 'almost', 'along', 'already', 'also', 'also need', 'also try', 'also use', 'altenbach', 'alternative', 'although', 'always', 'amount', 'amplitude', 'analog', 'analog input', 'analog output', 'analysis', 'analyze', 'and/or', 'angle', 'another', 'answer', 'answer question', 'anybody', 'anymore', 'anyone', 'anyone help', 'anyone know', 'anything', 'anyway', 'anywhere', 'ao', 'api', 'app', 'apparently', 'appear', 'append', 'application', 'apply', 'appreciate', 'approach', 'appropriate', 'architecture', 'arduino', 'area', 'around', 'array', \"array ''\", 'array cluster', 'array size', 'array string', 'array use', 'arrow', 'article', 'ascii', 'ask', 'assembly', 'assign', 'assistant', 'associate', 'assume', 'asynchronous', 'attach', 'attach code', 'attach vi', 'attached', 'attached vi', 'attachment', 'attempt', 'attribute', 'audio', 'auto', 'automatically', 'available', 'average', 'avi', 'avoid', 'aware', 'away', 'axis', 'b', 'back', 'background', 'bad', 'bar', 'base', 'basic', 'basically', 'baud', 'become', 'begin', 'beginner', 'beginning', 'behave', 'behavior', 'behaviour', 'behind', 'believe', 'ben', 'best', 'best way', 'better', 'big', 'binary', 'bit', 'black', 'blank', 'block', 'block diagram', 'blue', 'board', 'bob', 'boolean', 'booleans', 'bottom', 'box', 'break', 'bring', 'broken', 'browse', 'browser', 'buffer', 'bug', 'build', 'build array', 'builder', 'bunch', 'bundle', 'bus', 'button', 'button press', 'buy', 'byte', 'byte port', 'c', 'c++', 'ca', \"ca n't\", \"ca n't find\", 'cable', 'calculate', 'calculation', 'calibration', 'call', 'call ``', 'call library', 'call library function', 'call vi', 'callback', 'caller', 'camera', \"can\\\\'t\", 'cant', 'capture', 'car', 'card', 'care', 'case', 'case structure', 'cast', 'catch', 'cause', 'cdaq', 'cell', 'certain', 'certainly', 'chance', 'change', 'channel', 'char', 'character', 'chart', 'chassis', 'check', 'child', 'choice', 'choose', 'circuit', 'clarify', 'class', 'clean', 'clear', 'clearly', 'click', 'client', 'clock', 'clone', 'close', 'cluster', 'cod', 'code', 'code ``', 'code run', 'code use', 'code work', 'code.\\\\xa0', 'collect', 'collect data', 'color', 'column', 'com', 'com port', 'combination', 'combine', 'come', 'comma', 'command', 'command line', 'comment', 'common', 'communicate', 'communication', 'community', 'company', 'compare', 'comparison', 'compatible', 'compile', 'compiler', 'complete', 'completely', 'complex', 'complicate', 'component', 'computer', 'concept', 'concern', 'condition', 'conditional', 'config', 'configuration', 'configure', 'confirm', 'conflict', 'confuse', 'connect', 'connection', 'connector', 'consider', 'consist', 'constant', 'consumer', 'consumer loop', 'contact', 'contain', 'container', 'content', 'context', 'continue', 'continuous', 'continuously', 'control', 'controller', 'conversion', 'convert', 'converter', 'coordinate', 'copy', 'core', 'correct', 'correctly', 'correspond', 'corrupt', 'could', 'could also', 'could find', 'could help', \"could n't\", 'could use', 'count', 'counter', 'couple', 'course', 'cpu', 'crash', 'create', 'create new', 'create vi', 'crio', 'crossrulz', 'csv', 'csv file', 'curious', 'current', 'currently', 'cursor', 'curve', 'custom', 'customer', 'cut', 'cycle', 'daq', 'daq assistant', 'daqmx', 'data', \"data ''\", 'data ``', 'data acquisition', 'data come', 'data file', 'data flow', 'data point', 'data type', 'data use', 'data.\\\\xa0', 'database', 'dataflow', 'datatype', 'date', 'day', 'db', 'dbl', 'dc', 'de', 'deal', 'debug', 'decide', 'decimal', 'default', 'default value', 'define', 'definitely', 'definition', 'degree', 'delay', 'delete', 'depend', 'dependency', 'deploy', 'dequeue', 'describe', 'description', 'design', 'desire', 'desired', 'desktop', 'detail', 'detailed', 'detect', 'determine', 'develop', 'developer', 'development', 'device', 'diagram', 'dialog', \"didn\\\\'t\", 'difference', 'different', 'difficult', 'digit', 'digital', 'direct', 'direction', 'directly', 'directory', 'disable', 'disconnect', 'discover', 'discuss', 'discussion', 'disk', 'display', 'distance', 'distribution', 'divide', 'dll', 'dlls', 'dma', 'document', 'documentation', \"doesn\\\\'t\", \"don\\\\'t\", \"don\\\\'t know\", \"don\\\\'t need\", 'dont', 'dont know', 'dot', 'double', 'doubt', 'download', 'drag', 'draw', 'drive', 'driver', 'drop', 'dsc', 'dt', 'due', 'duplicate', 'dvr', 'dynamic', 'dynamic data', 'dynamically', 'e.g', 'earlier', 'early', 'easily', 'easy', 'easy way', 'edge', 'edit', 'editor', 'effect', 'efficient', 'effort', 'either', 'elapsed', 'elapsed time', 'element', 'element array', 'eliminate', 'else', 'email', 'embed', 'empty', 'enable', 'encoder', 'encounter', 'end', 'engine', 'engineer', 'english', 'enough', 'ensure', 'enter', 'entire', 'entry', 'enum', 'environment', 'equal', 'equation', 'error', 'error ``', 'error code', 'error message', 'error occur', 'especially', 'essentially', 'etc', 'ethernet', 'even', 'even though', 'event', 'event case', 'event structure', 'eventually', 'ever', 'every', 'every time', 'everyone', 'everything', 'exact', 'exactly', 'example', 'example use', 'example vi', 'excel', 'excel file', 'except', 'exception', 'exchange', 'exe', 'executable', 'execute', 'execution', 'exist', 'exit', 'expand', 'expect', 'experience', 'experiment', 'explain', 'explanation', 'explicitly', 'explorer', 'export', 'express', 'express vi', 'extension', 'external', 'extra', 'extract', 'f', 'face', 'fact', 'factor', 'fail', 'fairly', 'fall', 'false', 'familiar', 'far', 'fast', 'faster', 'feature', 'fee', 'feed', 'feedback', 'feedback node', 'feel', 'fft', 'fgv', 'field', 'fifo', 'figure', 'file', \"file ''\", 'file ``', 'file name', 'file path', 'file use', 'file x86', 'fill', 'filter', 'final', 'finally', 'find', 'find example', 'find solution', 'find way', 'fine', 'finish', 'finite', 'fire', 'firewall', 'firmware', 'first', 'first time', 'fit', 'fix', 'fixed', 'flag', 'flat', 'flat sequence', 'flatten', 'float', 'flow', 'focus', 'folder', 'follow', 'following', 'font', 'force', 'forget', 'form', 'format', 'formula', 'forum', 'forward', 'four', 'fp', 'fpga', 'fpga vi', 'frame', 'framework', 'free', 'frequency', 'front', 'front panel', 'full', 'fully', 'function', 'function use', 'functionality', 'future', 'gain', 'general', 'generally', 'generate', 'generation', 'generator', 'generic', 'gerdw', 'get', 'get ``', 'get data', 'get error', 'get rid', 'get start', 'get work', 'give', 'give error', 'global', 'global variable', 'go', 'go back', 'goal', 'good', 'good idea', 'good way', 'google', 'gpib', 'grab', 'graph', 'great', 'greatly', 'green', 'group', 'grow', 'guarantee', 'guess', 'gui', 'guide', 'guy', 'half', 'hand', 'handle', 'handler', 'hang', 'happen', 'happy', 'hard', 'hardware', \"haven\\\\'t\", 'head', 'header', 'hear', 'hello', 'help', 'help !', 'help ``', 'help would', 'helpful', 'hence', 'hex', 'hey', 'hi', 'hi \\\\n\\\\xa0\\\\ni', 'hide', 'hierarchy', 'high', 'highlight', 'highlight read', 'highly', 'hint', 'history', 'hit', 'hold', 'home', 'hop', 'hope', 'hopefully', 'host', 'hour', 'however', 'http', 'huge', 'hz', 'i.e', 'i/o', 'i2c', 'i\\\\', \"i\\\\ 'd\", \"i\\\\ 'll\", \"i\\\\ 'm\", \"i\\\\ 'm sure\", \"i\\\\ 've\", 'icon', 'id', 'idea', 'identical', 'identify', 'ignore', 'im', 'image', 'imagine', 'imaq', 'immediately', 'implement', 'implementation', 'import', 'important', 'improve', 'include', 'increase', 'increment', 'indeed', 'independent', 'index', 'index array', 'indicate', 'indicator', 'individual', 'info', 'information', 'ini', 'init', 'initial', 'initialize', 'inner', 'input', 'input output', 'insert', 'inside', 'inside loop', 'instal', 'instal labview', 'install', 'installation', 'installer', 'instance', 'instead', 'instruction', 'instrument', 'instrument driver', 'int', 'integer', 'integrate', 'intend', 'intensity', 'interest', 'interested', 'interesting', 'interface', 'internal', 'internet', 'interval', 'introduce', 'invalid', 'invoke', 'invoke node', 'involve', 'io', 'ip', 'ip address', \"isn\\\\'t\", 'issue', 'it.\\\\xa0', 'it\\\\', \"it\\\\ 's\", 'item', 'iterate', 'iteration', 'jens', 'job', 'jump', 'keep', 'keithley', 'key', 'keyboard', 'khz', 'kind', 'know', 'knowledge', 'lab', 'label', 'labview', 'labview 2014', 'labview 2015', 'labview 2016', 'labview 2017', 'labview ``', 'labview code', 'labview help', 'labview program', 'labview project', 'labview use', 'labview version', 'labview vi', 'labview.\\\\xa0', 'language', 'laptop', 'large', 'last', 'late', 'later', 'launch', 'lead', 'learn', 'least', 'leave', 'led', 'left', 'length', 'less', 'let', 'let know', 'level', 'library', 'library function', 'library node', 'license', 'light', 'like', 'like ``', 'like use', 'likely', 'limit', 'limitation', 'line', 'linear', 'link', 'linux', 'linx', 'list', 'listbox', 'little', 'little bit', 'live', 'load', 'local', 'local variable', 'locate', 'location', 'lock', 'log', 'logic', 'long', 'long time', 'longer', 'look', 'look like', 'loop', 'loop ``', 'loop run', 'loop use', 'loop.\\\\xa0', 'lose', 'lot', 'low', 'luck', 'lv', 'lvrt', 'lvrt <', 'lvrt < unknown', 'mac', 'machine', 'main', 'main vi', 'maintain', 'make', 'make sense', 'make sure', 'make work', 'manage', 'manager', 'manual', 'manually', 'manufacturer', 'many', 'map', 'mark', 'master', 'match', 'math', 'matlab', 'matrix', 'matter', 'max', 'maximum', 'may', 'maybe', 'mean', 'mean ``', 'measure', 'measurement', 'memory', 'mention', 'menu', 'merge', 'mess', 'message', 'meter', 'method', 'microsoft', 'middle', 'might', 'might want', 'millisecond', 'min', 'mind', 'mine', 'minimum', 'minute', 'miss', 'mistake', 'modbus', 'mode', 'model', 'modify', 'module', 'moment', 'monitor', 'month', 'mostly', 'motion', 'motor', 'mouse', 'move', 'msec', 'much', 'much !', 'multiple', 'multiply', 'must', 'myrio', 'n', \"n't\", \"n't find\", \"n't get\", \"n't know\", \"n't need\", \"n't really\", \"n't see\", \"n't seem\", \"n't think\", \"n't understand\", \"n't use\", \"n't want\", \"n't work\", 'name', 'name ``', 'name=', \"name= ''\", 'national', 'national instrument', 'native', 'near', 'necessary', 'need', 'need ``', 'need change', 'need get', 'need help', 'need know', 'need make', 'need use', 'negative', 'network', 'network stream', 'never', 'never use', 'new', 'new labview', 'new version', 'next', 'ni', 'ni max', 'ni-daqmx', 'nice', 'node', 'noise', 'none', 'normal', 'normally', 'note', 'nothing', 'notice', 'notifier', 'null', 'number', 'number sample', 'numeric', 'nxg', 'object', 'obtain', 'obvious', 'obviously', 'occur', 'odd', 'offer', 'office', 'offset', 'often', 'ok', 'old', 'old version', 'one', 'one time', 'online', 'onto', 'op', 'opc', 'open', 'open file', 'open vi', 'operate', 'operation', 'opinion', 'option', 'order', 'original', 'os', 'oscilloscope', 'others', 'otherwise', 'output', 'outside', 'outside loop', 'overlay', 'overwrite', 'p', 'package', 'packet', 'page', 'pair', 'palette', 'pane', 'panel', 'paper', 'parallel', 'parameter', 'parent', 'parse', 'part', 'particular', 'party', 'pas', 'pass', 'password', 'past', 'paste', 'patch', 'path', 'pattern', 'pause', 'pay', 'pc', 'pdf', 'peak', 'people', 'per', 'perfect', 'perfectly', 'perform', 'performance', 'perhaps', 'period', 'person', 'phase', 'physical', 'pick', 'picture', 'pid', 'piece', 'pin', 'pixel', 'place', 'plan', 'platform', 'play', 'plc', 'please', 'please help', 'plot', 'plug', 'plus', 'png', 'point', 'pointer', 'pop', 'port', 'portion', 'position', 'possibility', 'possible', 'possibly', 'post', 'post code', 'power', 'power supply', 'ppl', 'practice', 'precision', 'prefer', 'present', 'press', 'pressure', 'pretty', 'prevent', 'previous', 'previously', 'print', 'printer', 'priority', 'private', 'probably', 'probe', 'problem', 'problem ``', 'procedure', 'process', 'processing', 'produce', 'producer', 'producer/consumer', 'product', 'profile', 'program', 'program run', 'programmatically', 'programmer', 'programming', 'progress', 'project', 'prompt', 'proper', 'properly', 'property', 'property node', 'protocol', 'provide', 'pull', 'pulse', 'pump', 'purpose', 'push', 'put', 'pwm', 'pxi', 'python', 'query', 'question', 'queue', 'quick', 'quickly', 'quite', 'r', 'race', 'race condition', 'ramp', 'random', 'range', 'rate', 'rather', 'raw', 'reach', 'read', 'read data', 'read write', 'read/write', 'reader', 'reading', 'ready', 'real', 'real time', 'real-time', 'realize', 'really', 'really need', 'reason', 'reasonable', 'reboot', 'recall', 'receive', 'receiver', 'recent', 'recently', 'recognize', 'recommend', 'record', 'red', 'reduce', 'reentrant', 'ref', 'refer', 'reference', 'refnum', 'regard', 'register', 'regular', 'reinstall', 'relate', 'relative', 'relatively', 'relay', 'release', 'relevant', 'remain', 'remember', 'remote', 'remove', 'rename', 'repair', 'repeat', 'replace', 'reply', 'report', 'report generation', 'represent', 'representation', 'reproduce', 'request', 'require', 'required', 'requirement', 'research', 'reset', 'resize', 'resolution', 'resolve', 'resource', 'respond', 'response', 'rest', 'restart', 'result', 'retrieve', 'return', 'reverse', 'rid', 'right', 'right click', 'right-click', 'ring', 'rio', 'round', 'routine', 'row', 'rs232', 'rt', 'rule', 'run', 'run code', 'run labview', 'run program', 'run time', 'run vi', 'run-time', 'running', 'runtime', 'safe', 'sample', 'sample clock', 'sample rate', 'sampling', 'save', 'save data', 'saw', 'say', 'say ``', 'scale', 'scan', 'schor', \"schor ''\", 'schor ``', 'scope', 'screen', 'screenshot', 'screenshots', 'script', 'scroll', 'search', 'sec', 'second', 'section', 'see', 'see ``', 'seem', 'seem like', 'seem work', 'select', 'select ``', 'selection', 'send', 'send command', 'send data', 'sense', 'sensor', 'separate', 'sequence', 'sequence structure', 'serial', 'serial port', 'series', 'server', 'service', 'session', 'set', 'set ``', 'setting', 'setup', 'several', 'share', 'share variable', 'sheet', 'shift', 'shift register', 'short', 'shot', 'show', 'side', 'sign', 'signal', 'similar', 'simple', 'simplify', 'simply', 'simulate', 'simulation', 'simultaneously', 'since', 'sine', 'sine wave', 'single', 'site', 'situation', 'size', 'slave', 'slider', 'slightly', 'slow', 'small', 'smart', 'snippet', 'software', 'solution', 'solve', 'solve problem', 'somebody', 'somehow', 'someone', 'someone help', 'something', 'something else', 'something like', 'sometimes', 'somewhat', 'somewhere', 'soon', 'sorry', 'sort', 'sound', 'sound like', 'source', 'source code', 'sp1', 'space', 'spec', 'special', 'specific', 'specifically', 'specification', 'specify', 'spectrum', 'speed', 'spend', 'spi', 'split', 'spreadsheet', 'sql', 'square', 'stack', 'stage', 'stamp', 'standard', 'start', 'startup', 'state', 'state machine', 'statement', 'static', 'station', 'status', 'stay', 'step', 'stepper', 'stick', 'still', 'still get', 'stop', 'stop button', 'store', 'straight', 'strain', 'strange', 'stream', 'string', \"string ''\", 'string array', 'structure', 'student', 'stuff', 'style', 'sub', 'sub vi', 'sub-vi', 'subpanel', 'subset', 'subtract', 'subvi', 'subvis', 'success', 'successfully', 'suggest', 'suggestion', 'sum', 'supply', 'support', 'suppose', 'sure', 'suspect', 'switch', 'symbol', 'sync', 'synchronize', 'system', 'tab', 'tab control', 'table', 'tag', 'take', 'take look', 'take time', 'talk', 'target', 'task', 'tcp', 'tcp/ip', 'tdms', 'tdms file', 'tell', 'temp', 'temperature', 'template', 'term', 'terminal', 'termination', 'termination character', 'test', 'teststand', 'text', 'text file', 'thank', 'thank much', 'thanks', 'thanks !', 'that\\\\', \"that\\\\ 's\", 'there\\\\', \"there\\\\ 's\", 'therefore', 'thermocouple', 'thing', 'think', 'think would', 'third', 'though', 'thought', 'thread', 'three', 'threshold', 'throw', 'thus', 'tick', 'time', \"time ''\", 'time ``', 'time loop', 'time stamp', 'time.\\\\xa0', 'timed', 'timed loop', 'timeout', 'timer', 'timestamp', 'timing', 'tip', 'title', 'today', 'together', 'tool', 'toolkit', 'top', 'top level', 'topic', 'total', 'trace', 'track', 'train', 'training', 'transfer', 'transmit', 'tree', 'trial', 'trick', 'trigger', 'trouble', 'troubleshoot', 'true', 'try', 'try create', 'try find', 'try get', 'try make', 'try open', 'try read', 'try run', 'try use', 'tunnel', 'turn', 'tutorial', 'twice', 'two', 'two different', 'type', 'typedef', 'typical', 'typically', 'u', 'u32', 'u8', 'udp', 'ui', 'unable', 'unbundle', 'understand', 'understanding', 'unfortunately', 'unicode', 'uninstall', 'unique', 'unit', 'unknown', 'unknown >', 'unless', 'unsigned', 'update', 'upgrade', 'upload', 'upon', 'upper', 'url', 'us', 'usage', 'usb', 'use', 'use ``', 'use array', 'use case', 'use daqmx', 'use different', 'use event', 'use labview', 'use loop', 'use ni', 'use one', 'use property', 'use property node', 'use shift', 'use shift register', 'use two', 'use vi', 'use visa', 'useful', 'user', 'user event', 'usrp', 'usually', 'utility', 'v', 'valid', 'value', 'value ``', 'value change', 'valve', 'variable', 'variant', 'various', 'vary', 'vector', 'verify', 'version', 'version labview', 'vi', \"vi ''\", \"vi 's\", 'vi ``', 'vi attach', 'vi call', 'vi reference', 'vi run', 'vi use', 'vi work', 'vi.\\\\xa0', 'vi\\\\', \"vi\\\\ 's\", 'via', 'video', 'view', 'vipm', 'virtual', 'vis', 'visa', 'visa read', 'visible', 'vision', 'visual', 'voltage', 'wait', 'want', 'want know', 'want make', 'want read', 'want use', 'warning', 'watch', 'wave', 'waveform', 'waveform chart', 'waveform graph', 'way', 'way get', 'web', 'web service', 'website', 'week', 'weird', 'well', 'whatever', 'whenever', 'whether', 'white', 'whole', 'width', 'window', 'window 10', 'window 7', 'windows', 'wire', 'wish', 'within', 'without', 'wo', \"wo n't\", \"won\\\\'t\", 'wonder', 'word', 'work', 'work !', 'work ``', 'work fine', 'work labview', 'work well', 'workaround', 'working', 'worry', 'worth', 'would', 'would also', 'would appreciate', 'would help', 'would like', \"would n't\", 'would need', 'would recommend', 'would use', 'would work', 'wrap', 'wrapper', 'write', 'write \\\\n', 'write \\\\nhi', 'write \\\\ni', 'write data', 'write file', 'wrong', 'x', 'x86', 'xml', 'xp', 'xy', 'xy graph', 'year', 'year ago', 'yes', 'yet', 'you\\\\', \"you\\\\ 'll\", \"you\\\\ 're\", \"you\\\\ 've\", 'z', 'zero', 'zip', '{', '}']\n"
     ]
    }
   ],
   "source": [
    "thread_X = thread_df.drop(columns=['Solution Count', 'Thread ID', 'Message List', 'User List', 'Message HTML', 'Post Times', 'Message Bodies'])\n",
    "thread_y = [0 if x==0 else 1 for x in thread_df['Solution Count']]  \n",
    "\n",
    "# Use tf-idf features\n",
    "thread_X_csr = csr_matrix(thread_X.values.astype(int))\n",
    "print(\"Extracting tf-idf features...\")\n",
    "tfidf_vectorizer = TfidfVectorizer(max_df=0.95, min_df=2,\n",
    "                                   max_features=n_features,\n",
    "                                   strip_accents = 'unicode',\n",
    "                                   tokenizer = LemmaTokenizer(),\n",
    "                                   ngram_range = (1,3),\n",
    "                                   stop_words=all_stop_words_punct)\n",
    "t0 = time()\n",
    "tfidf = tfidf_vectorizer.fit_transform(thread_df['Message Bodies'])\n",
    "print(\"done in %0.3fs.\" % (time() - t0))\n",
    "tfidf_feature_names = tfidf_vectorizer.get_feature_names()\n",
    "print (tfidf_feature_names)\n",
    "#print (type(tfidf))\n",
    "\n",
    "tfidf_thread_X = hstack((thread_X_csr, tfidf))\n",
    "#print (tfidf_thread_X)\n",
    "\n",
    "#Use tf (raw term count)\n",
    "print(\"Extracting tf features...\")\n",
    "tf_vectorizer = CountVectorizer(max_df=0.95, min_df=2,\n",
    "                                max_features=n_features,\n",
    "                                strip_accents = 'unicode',\n",
    "                                tokenizer = LemmaTokenizer(),\n",
    "                                ngram_range = (1,3),\n",
    "                                stop_words=all_stop_words_punct)\n",
    "t0 = time()\n",
    "tf = tf_vectorizer.fit_transform(thread_df['Message Bodies'])\n",
    "print(\"done in %0.3fs.\" % (time() - t0))\n",
    "tf_feature_names = tf_vectorizer.get_feature_names()\n",
    "print (tf_feature_names)\n",
    "\n",
    "tf_thread_X = hstack((thread_X_csr, tf))"
   ]
  },
  {
   "cell_type": "code",
   "execution_count": 21,
   "metadata": {},
   "outputs": [
    {
     "name": "stdout",
     "output_type": "stream",
     "text": [
      "Resampled dataset shape Counter({0: 3581, 1: 3581})\n"
     ]
    }
   ],
   "source": [
    "from imblearn.under_sampling import RandomUnderSampler \n",
    "\n",
    "rus = RandomUnderSampler(random_state=42)\n",
    "tfidf_thread_X_res, tfidf_thread_y_res = rus.fit_sample(tfidf_thread_X, thread_y)\n",
    "tf_thread_X_res, tf_thread_y_res = rus.fit_sample(tf_thread_X, thread_y)\n",
    "thread_X_res, thread_y_res = rus.fit_sample(thread_X, thread_y)\n",
    "print('Resampled dataset shape {}'.format(Counter(thread_y_res)))\n"
   ]
  },
  {
   "cell_type": "code",
   "execution_count": 36,
   "metadata": {},
   "outputs": [],
   "source": [
    "from sklearn.model_selection import train_test_split\n",
    "from sklearn.ensemble import RandomForestClassifier\n",
    "\n",
    "from sklearn.metrics import accuracy_score\n",
    "from sklearn.metrics import precision_score\n",
    "from sklearn.metrics import recall_score\n",
    "\n",
    "def train_basic_rf(Xdata, ydata):\n",
    "    #Create 70-30 splits\n",
    "    Xtrain, Xtest, ytrain, y_test = train_test_split(Xdata, \n",
    "                                                    ydata, \n",
    "                                                    random_state=42, \n",
    "                                                    train_size=.7, \n",
    "                                                    test_size=.3)\n",
    "    \n",
    "    # print('Baseline')\n",
    "    curModel = RandomForestClassifier().fit(Xtrain, ytrain)\n",
    "    startTime = time()\n",
    "    \n",
    "    y_predicted = curModel.predict(Xtest)\n",
    "        \n",
    "    accuracy = accuracy_score(y_predicted, y_test)\n",
    "    precision = precision_score(y_predicted, y_test)\n",
    "    recall = recall_score(y_predicted, y_test)\n",
    "        \n",
    "    print(\"Train accuracy score: {:.8f}\".format(accuracy))\n",
    "    print(\"Train precision score: {:.8f}\".format(precision))\n",
    "    print(\"Train recall score: {:.8f}\".format(recall))\n",
    "    print(\"done in %0.3fs.\" % (time()-startTime))\n"
   ]
  },
  {
   "cell_type": "code",
   "execution_count": 37,
   "metadata": {},
   "outputs": [
    {
     "name": "stdout",
     "output_type": "stream",
     "text": [
      "Creating model for no text training...\n",
      "Train accuracy score: 0.64495114\n",
      "Train precision score: 0.60151803\n",
      "Train recall score: 0.64892528\n",
      "done in 0.010s.\n"
     ]
    }
   ],
   "source": [
    "#try without text data\n",
    "print ('Creating model for no text training...')\n",
    "train_basic_rf(thread_X_res, thread_y_res)"
   ]
  },
  {
   "cell_type": "code",
   "execution_count": 38,
   "metadata": {},
   "outputs": [
    {
     "name": "stdout",
     "output_type": "stream",
     "text": [
      "Creating model for tfidf training...\n",
      "Train accuracy score: 0.62866450\n",
      "Train precision score: 0.56261860\n",
      "Train recall score: 0.63763441\n",
      "done in 0.020s.\n"
     ]
    }
   ],
   "source": [
    "print ('Creating model for tfidf training...')\n",
    "train_basic_rf(tfidf_thread_X_res, tfidf_thread_y_res)"
   ]
  },
  {
   "cell_type": "code",
   "execution_count": 39,
   "metadata": {},
   "outputs": [
    {
     "name": "stdout",
     "output_type": "stream",
     "text": [
      "Creating model for tf training...\n",
      "Train accuracy score: 0.60772452\n",
      "Train precision score: 0.53984820\n",
      "Train recall score: 0.61380798\n",
      "done in 0.018s.\n"
     ]
    }
   ],
   "source": [
    "print ('Creating model for tf training...')\n",
    "train_basic_rf(tf_thread_X_res, tf_thread_y_res)"
   ]
  },
  {
   "cell_type": "code",
   "execution_count": null,
   "metadata": {},
   "outputs": [],
   "source": []
  }
 ],
 "metadata": {
  "kernelspec": {
   "display_name": "Python 3",
   "language": "python",
   "name": "python3"
  },
  "language_info": {
   "codemirror_mode": {
    "name": "ipython",
    "version": 3
   },
   "file_extension": ".py",
   "mimetype": "text/x-python",
   "name": "python",
   "nbconvert_exporter": "python",
   "pygments_lexer": "ipython3",
   "version": "3.6.5"
  }
 },
 "nbformat": 4,
 "nbformat_minor": 2
}
